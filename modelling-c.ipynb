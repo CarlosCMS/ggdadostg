{
 "cells": [
  {
   "cell_type": "code",
   "execution_count": null,
   "metadata": {},
   "outputs": [],
   "source": [
    "# !pip install numpy\n",
    "# !pip install pandas\n",
    "# !pip install nltk\n",
    "# !pip install plotly\n",
    "# !pip install matplotlib\n",
    "# !pip install scikit-learn\n",
    "# !pip install seaborn\n",
    "#!pip install pyarrow\n"
   ]
  },
  {
   "cell_type": "code",
   "execution_count": null,
   "metadata": {},
   "outputs": [],
   "source": [
    "import numpy as np\n",
    "import pandas as pd\n",
    "import nltk\n",
    "#from sklearn.feature_extraction import stop_words\n",
    "from nltk.text import Text\n",
    "from collections import Counter\n",
    "import plotly.express as px\n",
    "from sklearn.feature_extraction.text import CountVectorizer, TfidfVectorizer\n",
    "from pandas import DataFrame\n",
    "from plotly import graph_objs as go\n",
    "import plotly.figure_factory as ff\n",
    "import matplotlib.pyplot as plt\n",
    "import seaborn as sns\n",
    "from sklearn.model_selection import cross_val_predict\n",
    "from sklearn import metrics\n",
    "from sklearn.metrics import confusion_matrix\n",
    "\n",
    "# WORKDIR = 'C:/Users/thewr/git/sentiment_analysis_twitter_netflix/'\n",
    "WORKDIR = '/home/cesar/BD/sentiment_analysis_twitter_netflix'\n",
    "\n",
    "netflix_tweets_DIR =  WORKDIR + '/Data/Processed/'\n",
    "netflix_tweets_proc_file =  WORKDIR + '/Data/Processed/netflix_all_tweets.parquet'\n",
    "\n",
    "pd.set_option('display.max_columns', None)\n",
    "pd.set_option('display.max_rows', None)\n",
    "pd.set_option('display.max_colwidth', 300)\n",
    "from nltk.stem import RSLPStemmer\n",
    "\n",
    "\n",
    "\n",
    "\n",
    "\n"
   ]
  },
  {
   "cell_type": "code",
   "execution_count": null,
   "metadata": {},
   "outputs": [],
   "source": [
    "# import csv \n",
    "# import os\n",
    "\n",
    "# os.getcwd()\n",
    "\n",
    "# os.listdir('/home/cesar/BD/sentiment_analysis_twitter_netflix/Data/Processed/')\n",
    "\n",
    "# os.listdir(netflix_tweets_DIR)\n",
    "\n",
    "# os.path.isfile(netflix_tweets_proc_file)\n",
    "\n",
    "# if not os.path.exists(WORKDIR):\n",
    "#    os.makedirs(WORKDIR)\n",
    "\n",
    "# pd.io.parquet.PyArrowImpl()"
   ]
  },
  {
   "cell_type": "markdown",
   "metadata": {},
   "source": [
    "# Data reading "
   ]
  },
  {
   "cell_type": "code",
   "execution_count": 3,
   "metadata": {},
   "outputs": [
    {
     "name": "stdout",
     "output_type": "stream",
     "text": [
      "shape: (22210, 11)\n",
      "columns: Index(['reaction_to_status_id', 'reaction_to_status_text',\n",
      "       'reaction_to_status_created_at', 'id', 'text_x', 'created_at', 'url',\n",
      "       'text_cleaned', 'in_reply_to_status_id_str', 'quoted_status_id_str',\n",
      "       'sentimento'],\n",
      "      dtype='object')\n"
     ]
    }
   ],
   "source": [
    "df_netflix_all_tweets = pd.read_parquet(netflix_tweets_proc_file)\n",
    "\n",
    "print('shape:', df_netflix_all_tweets.shape)\n",
    "print('columns:', df_netflix_all_tweets.columns)"
   ]
  },
  {
   "cell_type": "code",
   "execution_count": 4,
   "metadata": {},
   "outputs": [
    {
     "data": {
      "text/html": [
       "<div>\n",
       "<style scoped>\n",
       "    .dataframe tbody tr th:only-of-type {\n",
       "        vertical-align: middle;\n",
       "    }\n",
       "\n",
       "    .dataframe tbody tr th {\n",
       "        vertical-align: top;\n",
       "    }\n",
       "\n",
       "    .dataframe thead th {\n",
       "        text-align: right;\n",
       "    }\n",
       "</style>\n",
       "<table border=\"1\" class=\"dataframe\">\n",
       "  <thead>\n",
       "    <tr style=\"text-align: right;\">\n",
       "      <th></th>\n",
       "      <th>reaction_to_status_id</th>\n",
       "      <th>reaction_to_status_text</th>\n",
       "      <th>reaction_to_status_created_at</th>\n",
       "      <th>id</th>\n",
       "      <th>text_x</th>\n",
       "      <th>created_at</th>\n",
       "      <th>url</th>\n",
       "      <th>text_cleaned</th>\n",
       "      <th>in_reply_to_status_id_str</th>\n",
       "      <th>quoted_status_id_str</th>\n",
       "      <th>sentimento</th>\n",
       "    </tr>\n",
       "  </thead>\n",
       "  <tbody>\n",
       "    <tr>\n",
       "      <th>0</th>\n",
       "      <td>1356229042647789569</td>\n",
       "      <td>Em fevereiro não posso, tô com a agenda cheia. 👇🏾 https://t.co/IBI89vqg5H</td>\n",
       "      <td>Mon Feb 01 13:12:55 +0000 2021</td>\n",
       "      <td>1356229083223515136</td>\n",
       "      <td>@NetflixBrasil oie https://t.co/33L2geGxWD</td>\n",
       "      <td>Mon Feb 01 13:13:05 +0000 2021</td>\n",
       "      <td>NaN</td>\n",
       "      <td>mencao_arroba  oie</td>\n",
       "      <td>1356229042647789569</td>\n",
       "      <td>None</td>\n",
       "      <td>0.0</td>\n",
       "    </tr>\n",
       "    <tr>\n",
       "      <th>1</th>\n",
       "      <td>1356229042647789569</td>\n",
       "      <td>Em fevereiro não posso, tô com a agenda cheia. 👇🏾 https://t.co/IBI89vqg5H</td>\n",
       "      <td>Mon Feb 01 13:12:55 +0000 2021</td>\n",
       "      <td>1356229130489126920</td>\n",
       "      <td>@NetflixBrasil Já ia falar que vcs estavam atrasados 😂</td>\n",
       "      <td>Mon Feb 01 13:13:16 +0000 2021</td>\n",
       "      <td>NaN</td>\n",
       "      <td>mencao_arroba  ja ia falar que vcs estavam atrasados  rosto_chorando_de_rir</td>\n",
       "      <td>1356229042647789569</td>\n",
       "      <td>None</td>\n",
       "      <td>2.0</td>\n",
       "    </tr>\n",
       "  </tbody>\n",
       "</table>\n",
       "</div>"
      ],
      "text/plain": [
       "  reaction_to_status_id  \\\n",
       "0   1356229042647789569   \n",
       "1   1356229042647789569   \n",
       "\n",
       "                                                     reaction_to_status_text  \\\n",
       "0  Em fevereiro não posso, tô com a agenda cheia. 👇🏾 https://t.co/IBI89vqg5H   \n",
       "1  Em fevereiro não posso, tô com a agenda cheia. 👇🏾 https://t.co/IBI89vqg5H   \n",
       "\n",
       "    reaction_to_status_created_at                   id  \\\n",
       "0  Mon Feb 01 13:12:55 +0000 2021  1356229083223515136   \n",
       "1  Mon Feb 01 13:12:55 +0000 2021  1356229130489126920   \n",
       "\n",
       "                                                   text_x  \\\n",
       "0              @NetflixBrasil oie https://t.co/33L2geGxWD   \n",
       "1  @NetflixBrasil Já ia falar que vcs estavam atrasados 😂   \n",
       "\n",
       "                       created_at  url  \\\n",
       "0  Mon Feb 01 13:13:05 +0000 2021  NaN   \n",
       "1  Mon Feb 01 13:13:16 +0000 2021  NaN   \n",
       "\n",
       "                                                                    text_cleaned  \\\n",
       "0                                                           mencao_arroba  oie     \n",
       "1   mencao_arroba  ja ia falar que vcs estavam atrasados  rosto_chorando_de_rir    \n",
       "\n",
       "  in_reply_to_status_id_str quoted_status_id_str  sentimento  \n",
       "0       1356229042647789569                 None         0.0  \n",
       "1       1356229042647789569                 None         2.0  "
      ]
     },
     "execution_count": 4,
     "metadata": {},
     "output_type": "execute_result"
    }
   ],
   "source": [
    "df_netflix_all_tweets.head(2)"
   ]
  },
  {
   "cell_type": "code",
   "execution_count": 55,
   "metadata": {},
   "outputs": [
    {
     "data": {
      "text/html": [
       "<div>\n",
       "<style scoped>\n",
       "    .dataframe tbody tr th:only-of-type {\n",
       "        vertical-align: middle;\n",
       "    }\n",
       "\n",
       "    .dataframe tbody tr th {\n",
       "        vertical-align: top;\n",
       "    }\n",
       "\n",
       "    .dataframe thead th {\n",
       "        text-align: right;\n",
       "    }\n",
       "</style>\n",
       "<table border=\"1\" class=\"dataframe\">\n",
       "  <thead>\n",
       "    <tr style=\"text-align: right;\">\n",
       "      <th></th>\n",
       "      <th>id</th>\n",
       "      <th>url</th>\n",
       "      <th>sentimento</th>\n",
       "      <th>sentiment_sentilex</th>\n",
       "      <th>sentiment_leia_number</th>\n",
       "      <th>sentiment_leia_number_to_compare_metrics</th>\n",
       "    </tr>\n",
       "  </thead>\n",
       "  <tbody>\n",
       "    <tr>\n",
       "      <th>count</th>\n",
       "      <td>2.221000e+04</td>\n",
       "      <td>0.0</td>\n",
       "      <td>22210.000000</td>\n",
       "      <td>22210.000000</td>\n",
       "      <td>22210.000000</td>\n",
       "      <td>22210.000000</td>\n",
       "    </tr>\n",
       "    <tr>\n",
       "      <th>mean</th>\n",
       "      <td>1.359803e+18</td>\n",
       "      <td>NaN</td>\n",
       "      <td>1.114588</td>\n",
       "      <td>0.193381</td>\n",
       "      <td>-0.003079</td>\n",
       "      <td>0.574471</td>\n",
       "    </tr>\n",
       "    <tr>\n",
       "      <th>std</th>\n",
       "      <td>3.008412e+15</td>\n",
       "      <td>NaN</td>\n",
       "      <td>0.955853</td>\n",
       "      <td>0.516748</td>\n",
       "      <td>0.292429</td>\n",
       "      <td>0.787508</td>\n",
       "    </tr>\n",
       "    <tr>\n",
       "      <th>min</th>\n",
       "      <td>1.356229e+18</td>\n",
       "      <td>NaN</td>\n",
       "      <td>0.000000</td>\n",
       "      <td>0.000000</td>\n",
       "      <td>-0.987700</td>\n",
       "      <td>0.000000</td>\n",
       "    </tr>\n",
       "    <tr>\n",
       "      <th>25%</th>\n",
       "      <td>1.356244e+18</td>\n",
       "      <td>NaN</td>\n",
       "      <td>0.000000</td>\n",
       "      <td>0.000000</td>\n",
       "      <td>0.000000</td>\n",
       "      <td>0.000000</td>\n",
       "    </tr>\n",
       "    <tr>\n",
       "      <th>50%</th>\n",
       "      <td>1.360922e+18</td>\n",
       "      <td>NaN</td>\n",
       "      <td>2.000000</td>\n",
       "      <td>0.000000</td>\n",
       "      <td>0.000000</td>\n",
       "      <td>0.000000</td>\n",
       "    </tr>\n",
       "    <tr>\n",
       "      <th>75%</th>\n",
       "      <td>1.362174e+18</td>\n",
       "      <td>NaN</td>\n",
       "      <td>2.000000</td>\n",
       "      <td>0.000000</td>\n",
       "      <td>0.000000</td>\n",
       "      <td>1.000000</td>\n",
       "    </tr>\n",
       "    <tr>\n",
       "      <th>max</th>\n",
       "      <td>1.366209e+18</td>\n",
       "      <td>NaN</td>\n",
       "      <td>2.000000</td>\n",
       "      <td>2.000000</td>\n",
       "      <td>0.950100</td>\n",
       "      <td>2.000000</td>\n",
       "    </tr>\n",
       "  </tbody>\n",
       "</table>\n",
       "</div>"
      ],
      "text/plain": [
       "                 id  url    sentimento  sentiment_sentilex  \\\n",
       "count  2.221000e+04  0.0  22210.000000        22210.000000   \n",
       "mean   1.359803e+18  NaN      1.114588            0.193381   \n",
       "std    3.008412e+15  NaN      0.955853            0.516748   \n",
       "min    1.356229e+18  NaN      0.000000            0.000000   \n",
       "25%    1.356244e+18  NaN      0.000000            0.000000   \n",
       "50%    1.360922e+18  NaN      2.000000            0.000000   \n",
       "75%    1.362174e+18  NaN      2.000000            0.000000   \n",
       "max    1.366209e+18  NaN      2.000000            2.000000   \n",
       "\n",
       "       sentiment_leia_number  sentiment_leia_number_to_compare_metrics  \n",
       "count           22210.000000                              22210.000000  \n",
       "mean               -0.003079                                  0.574471  \n",
       "std                 0.292429                                  0.787508  \n",
       "min                -0.987700                                  0.000000  \n",
       "25%                 0.000000                                  0.000000  \n",
       "50%                 0.000000                                  0.000000  \n",
       "75%                 0.000000                                  1.000000  \n",
       "max                 0.950100                                  2.000000  "
      ]
     },
     "execution_count": 55,
     "metadata": {},
     "output_type": "execute_result"
    }
   ],
   "source": [
    "df_netflix_all_tweets.describe()"
   ]
  },
  {
   "cell_type": "code",
   "execution_count": 5,
   "metadata": {},
   "outputs": [
    {
     "name": "stderr",
     "output_type": "stream",
     "text": [
      "[nltk_data] Downloading package stopwords to /home/cesar/nltk_data...\n",
      "[nltk_data]   Package stopwords is already up-to-date!\n",
      "[nltk_data] Downloading package rslp to /home/cesar/nltk_data...\n",
      "[nltk_data]   Package rslp is already up-to-date!\n"
     ]
    },
    {
     "data": {
      "text/plain": [
       "True"
      ]
     },
     "execution_count": 5,
     "metadata": {},
     "output_type": "execute_result"
    }
   ],
   "source": [
    "nltk.download('stopwords')\n",
    "nltk.download('rslp')"
   ]
  },
  {
   "cell_type": "code",
   "execution_count": 6,
   "metadata": {},
   "outputs": [],
   "source": [
    "final_stopwords_list = nltk.corpus.stopwords.words('english') + nltk.corpus.stopwords.words('portuguese')"
   ]
  },
  {
   "cell_type": "code",
   "execution_count": 7,
   "metadata": {},
   "outputs": [],
   "source": [
    "newStopWords = ['pra', 'diaz','juliette','lumena','carla','bbb21','gilberto','victor', 'hugo', 'globo', 'rodolfo', 'thais...','thaís','thais', 'caio', 'arcrebiano', 'brother',\n",
    "               'lucas', 'bbb2021', 'paredão', 'probosta','projota','lider','líder', 'karol', 'conka', 'pocah', 'penteado', 'rodolffo','camilla','sarah','nego',\n",
    "               'fiuk','fiukk','fiu','arthur','viih','boninho','big','pocahh','bbb']\n",
    "final_stopwords_list.extend(newStopWords)"
   ]
  },
  {
   "cell_type": "code",
   "execution_count": 8,
   "metadata": {},
   "outputs": [
    {
     "data": {
      "text/html": [
       "<div>\n",
       "<style scoped>\n",
       "    .dataframe tbody tr th:only-of-type {\n",
       "        vertical-align: middle;\n",
       "    }\n",
       "\n",
       "    .dataframe tbody tr th {\n",
       "        vertical-align: top;\n",
       "    }\n",
       "\n",
       "    .dataframe thead th {\n",
       "        text-align: right;\n",
       "    }\n",
       "</style>\n",
       "<table border=\"1\" class=\"dataframe\">\n",
       "  <thead>\n",
       "    <tr style=\"text-align: right;\">\n",
       "      <th></th>\n",
       "      <th>reaction_to_status_id</th>\n",
       "      <th>reaction_to_status_text</th>\n",
       "      <th>reaction_to_status_created_at</th>\n",
       "      <th>id</th>\n",
       "      <th>text_x</th>\n",
       "      <th>created_at</th>\n",
       "      <th>url</th>\n",
       "      <th>text_cleaned</th>\n",
       "      <th>in_reply_to_status_id_str</th>\n",
       "      <th>quoted_status_id_str</th>\n",
       "      <th>sentimento</th>\n",
       "    </tr>\n",
       "  </thead>\n",
       "  <tbody>\n",
       "    <tr>\n",
       "      <th>0</th>\n",
       "      <td>1356229042647789569</td>\n",
       "      <td>Em fevereiro não posso, tô com a agenda cheia. 👇🏾 https://t.co/IBI89vqg5H</td>\n",
       "      <td>Mon Feb 01 13:12:55 +0000 2021</td>\n",
       "      <td>1356229083223515136</td>\n",
       "      <td>@NetflixBrasil oie https://t.co/33L2geGxWD</td>\n",
       "      <td>Mon Feb 01 13:13:05 +0000 2021</td>\n",
       "      <td>NaN</td>\n",
       "      <td>mencao_arroba  oie</td>\n",
       "      <td>1356229042647789569</td>\n",
       "      <td>None</td>\n",
       "      <td>0.0</td>\n",
       "    </tr>\n",
       "    <tr>\n",
       "      <th>1</th>\n",
       "      <td>1356229042647789569</td>\n",
       "      <td>Em fevereiro não posso, tô com a agenda cheia. 👇🏾 https://t.co/IBI89vqg5H</td>\n",
       "      <td>Mon Feb 01 13:12:55 +0000 2021</td>\n",
       "      <td>1356229130489126920</td>\n",
       "      <td>@NetflixBrasil Já ia falar que vcs estavam atrasados 😂</td>\n",
       "      <td>Mon Feb 01 13:13:16 +0000 2021</td>\n",
       "      <td>NaN</td>\n",
       "      <td>mencao_arroba  ja ia falar que vcs estavam atrasados  rosto_chorando_de_rir</td>\n",
       "      <td>1356229042647789569</td>\n",
       "      <td>None</td>\n",
       "      <td>2.0</td>\n",
       "    </tr>\n",
       "  </tbody>\n",
       "</table>\n",
       "</div>"
      ],
      "text/plain": [
       "  reaction_to_status_id  \\\n",
       "0   1356229042647789569   \n",
       "1   1356229042647789569   \n",
       "\n",
       "                                                     reaction_to_status_text  \\\n",
       "0  Em fevereiro não posso, tô com a agenda cheia. 👇🏾 https://t.co/IBI89vqg5H   \n",
       "1  Em fevereiro não posso, tô com a agenda cheia. 👇🏾 https://t.co/IBI89vqg5H   \n",
       "\n",
       "    reaction_to_status_created_at                   id  \\\n",
       "0  Mon Feb 01 13:12:55 +0000 2021  1356229083223515136   \n",
       "1  Mon Feb 01 13:12:55 +0000 2021  1356229130489126920   \n",
       "\n",
       "                                                   text_x  \\\n",
       "0              @NetflixBrasil oie https://t.co/33L2geGxWD   \n",
       "1  @NetflixBrasil Já ia falar que vcs estavam atrasados 😂   \n",
       "\n",
       "                       created_at  url  \\\n",
       "0  Mon Feb 01 13:13:05 +0000 2021  NaN   \n",
       "1  Mon Feb 01 13:13:16 +0000 2021  NaN   \n",
       "\n",
       "                                                                    text_cleaned  \\\n",
       "0                                                           mencao_arroba  oie     \n",
       "1   mencao_arroba  ja ia falar que vcs estavam atrasados  rosto_chorando_de_rir    \n",
       "\n",
       "  in_reply_to_status_id_str quoted_status_id_str  sentimento  \n",
       "0       1356229042647789569                 None         0.0  \n",
       "1       1356229042647789569                 None         2.0  "
      ]
     },
     "execution_count": 8,
     "metadata": {},
     "output_type": "execute_result"
    }
   ],
   "source": [
    "df_netflix_all_tweets.head(2)"
   ]
  },
  {
   "cell_type": "markdown",
   "metadata": {},
   "source": [
    "# Models evaluation"
   ]
  },
  {
   "cell_type": "markdown",
   "metadata": {},
   "source": [
    "## Sentilex"
   ]
  },
  {
   "cell_type": "code",
   "execution_count": 9,
   "metadata": {},
   "outputs": [],
   "source": [
    "#Importing Sentilex lexicon with polarity words\n",
    "sentilexpt = open('SentiLex-lem-PT02.txt')\n",
    "\n",
    "#Creating dictionary with polarity words\n",
    "dic_polarity_word = {}\n",
    "for i in sentilexpt.readlines():\n",
    "  pos_point = i.find('.')\n",
    "  word = (i[:pos_point])\n",
    "  pol_pos = i.find('POL')\n",
    "  polarity = (i[pol_pos+7:pol_pos+9]).replace(';', '')\n",
    "  dic_polarity_word[word] = polarity\n",
    "\n",
    "#print (dic_polarity_word)"
   ]
  },
  {
   "cell_type": "code",
   "execution_count": 10,
   "metadata": {},
   "outputs": [],
   "source": [
    "def sentiment_value_prediction(text):\n",
    "    text = text.lower()\n",
    "    l_sentiment = []    \n",
    "\n",
    "    for p in text.split():    \n",
    "        l_sentiment.append(int(dic_polarity_word.get(p, 0)))\n",
    "    \n",
    "    value = sum(l_sentiment)                    \n",
    "    \n",
    "    \n",
    "    if value > 0:\n",
    "        return 2.0\n",
    "    elif value == 0:\n",
    "        return 0.0\n",
    "    elif value < 0:\n",
    "        return 1.0\n",
    "\n",
    "\n",
    "df_netflix_all_tweets['sentiment_sentilex']= df_netflix_all_tweets['text_x'].apply(lambda x:sentiment_value_prediction(x))"
   ]
  },
  {
   "cell_type": "code",
   "execution_count": 11,
   "metadata": {},
   "outputs": [
    {
     "data": {
      "text/html": [
       "<div>\n",
       "<style scoped>\n",
       "    .dataframe tbody tr th:only-of-type {\n",
       "        vertical-align: middle;\n",
       "    }\n",
       "\n",
       "    .dataframe tbody tr th {\n",
       "        vertical-align: top;\n",
       "    }\n",
       "\n",
       "    .dataframe thead th {\n",
       "        text-align: right;\n",
       "    }\n",
       "</style>\n",
       "<table border=\"1\" class=\"dataframe\">\n",
       "  <thead>\n",
       "    <tr style=\"text-align: right;\">\n",
       "      <th></th>\n",
       "      <th>reaction_to_status_id</th>\n",
       "      <th>reaction_to_status_text</th>\n",
       "      <th>reaction_to_status_created_at</th>\n",
       "      <th>id</th>\n",
       "      <th>text_x</th>\n",
       "      <th>created_at</th>\n",
       "      <th>url</th>\n",
       "      <th>text_cleaned</th>\n",
       "      <th>in_reply_to_status_id_str</th>\n",
       "      <th>quoted_status_id_str</th>\n",
       "      <th>sentimento</th>\n",
       "      <th>sentiment_sentilex</th>\n",
       "    </tr>\n",
       "  </thead>\n",
       "  <tbody>\n",
       "    <tr>\n",
       "      <th>0</th>\n",
       "      <td>1356229042647789569</td>\n",
       "      <td>Em fevereiro não posso, tô com a agenda cheia. 👇🏾 https://t.co/IBI89vqg5H</td>\n",
       "      <td>Mon Feb 01 13:12:55 +0000 2021</td>\n",
       "      <td>1356229083223515136</td>\n",
       "      <td>@NetflixBrasil oie https://t.co/33L2geGxWD</td>\n",
       "      <td>Mon Feb 01 13:13:05 +0000 2021</td>\n",
       "      <td>NaN</td>\n",
       "      <td>mencao_arroba  oie</td>\n",
       "      <td>1356229042647789569</td>\n",
       "      <td>None</td>\n",
       "      <td>0.0</td>\n",
       "      <td>0.0</td>\n",
       "    </tr>\n",
       "    <tr>\n",
       "      <th>1</th>\n",
       "      <td>1356229042647789569</td>\n",
       "      <td>Em fevereiro não posso, tô com a agenda cheia. 👇🏾 https://t.co/IBI89vqg5H</td>\n",
       "      <td>Mon Feb 01 13:12:55 +0000 2021</td>\n",
       "      <td>1356229130489126920</td>\n",
       "      <td>@NetflixBrasil Já ia falar que vcs estavam atrasados 😂</td>\n",
       "      <td>Mon Feb 01 13:13:16 +0000 2021</td>\n",
       "      <td>NaN</td>\n",
       "      <td>mencao_arroba  ja ia falar que vcs estavam atrasados  rosto_chorando_de_rir</td>\n",
       "      <td>1356229042647789569</td>\n",
       "      <td>None</td>\n",
       "      <td>2.0</td>\n",
       "      <td>0.0</td>\n",
       "    </tr>\n",
       "  </tbody>\n",
       "</table>\n",
       "</div>"
      ],
      "text/plain": [
       "  reaction_to_status_id  \\\n",
       "0   1356229042647789569   \n",
       "1   1356229042647789569   \n",
       "\n",
       "                                                     reaction_to_status_text  \\\n",
       "0  Em fevereiro não posso, tô com a agenda cheia. 👇🏾 https://t.co/IBI89vqg5H   \n",
       "1  Em fevereiro não posso, tô com a agenda cheia. 👇🏾 https://t.co/IBI89vqg5H   \n",
       "\n",
       "    reaction_to_status_created_at                   id  \\\n",
       "0  Mon Feb 01 13:12:55 +0000 2021  1356229083223515136   \n",
       "1  Mon Feb 01 13:12:55 +0000 2021  1356229130489126920   \n",
       "\n",
       "                                                   text_x  \\\n",
       "0              @NetflixBrasil oie https://t.co/33L2geGxWD   \n",
       "1  @NetflixBrasil Já ia falar que vcs estavam atrasados 😂   \n",
       "\n",
       "                       created_at  url  \\\n",
       "0  Mon Feb 01 13:13:05 +0000 2021  NaN   \n",
       "1  Mon Feb 01 13:13:16 +0000 2021  NaN   \n",
       "\n",
       "                                                                    text_cleaned  \\\n",
       "0                                                           mencao_arroba  oie     \n",
       "1   mencao_arroba  ja ia falar que vcs estavam atrasados  rosto_chorando_de_rir    \n",
       "\n",
       "  in_reply_to_status_id_str quoted_status_id_str  sentimento  \\\n",
       "0       1356229042647789569                 None         0.0   \n",
       "1       1356229042647789569                 None         2.0   \n",
       "\n",
       "   sentiment_sentilex  \n",
       "0                 0.0  \n",
       "1                 0.0  "
      ]
     },
     "execution_count": 11,
     "metadata": {},
     "output_type": "execute_result"
    }
   ],
   "source": [
    "df_netflix_all_tweets.head(2)"
   ]
  },
  {
   "cell_type": "code",
   "execution_count": null,
   "metadata": {},
   "outputs": [],
   "source": []
  },
  {
   "cell_type": "code",
   "execution_count": 12,
   "metadata": {},
   "outputs": [
    {
     "data": {
      "text/plain": [
       "Text(0.5, 1.0, 'Sentiment Distribution - Sentilex Lexicon')"
      ]
     },
     "execution_count": 12,
     "metadata": {},
     "output_type": "execute_result"
    },
    {
     "data": {
      "image/png": "[encoded data removed]",
      "text/plain": [
       "<Figure size 1200x600 with 1 Axes>"
      ]
     },
     "metadata": {},
     "output_type": "display_data"
    }
   ],
   "source": [
    "#sentiment distribution according to Sentilex\n",
    "plt.figure(figsize=(12,6))\n",
    "ax = sns.countplot(x='sentiment_sentilex',palette=['gray','red','green'], data=df_netflix_all_tweets)\n",
    "ax.set_xticklabels(['Neutral','Negative','Positive'], rotation='horizontal', fontsize=10)\n",
    "ax.set_title('Sentiment Distribution - Sentilex Lexicon')"
   ]
  },
  {
   "cell_type": "code",
   "execution_count": null,
   "metadata": {},
   "outputs": [],
   "source": []
  },
  {
   "cell_type": "code",
   "execution_count": 13,
   "metadata": {},
   "outputs": [
    {
     "data": {
      "text/plain": [
       "0.41517334533993694"
      ]
     },
     "execution_count": 13,
     "metadata": {},
     "output_type": "execute_result"
    }
   ],
   "source": [
    "from sklearn.metrics import accuracy_score\n",
    "accuracy_score(df_netflix_all_tweets['sentimento'], df_netflix_all_tweets['sentiment_sentilex'])"
   ]
  },
  {
   "cell_type": "code",
   "execution_count": 14,
   "metadata": {},
   "outputs": [
    {
     "name": "stdout",
     "output_type": "stream",
     "text": [
      "              precision    recall  f1-score   support\n",
      "\n",
      "         0.0       0.41      0.88      0.56      9019\n",
      "         1.0       0.28      0.31      0.29      1627\n",
      "         2.0       0.63      0.07      0.12     11564\n",
      "\n",
      "    accuracy                           0.42     22210\n",
      "   macro avg       0.44      0.42      0.33     22210\n",
      "weighted avg       0.51      0.42      0.31     22210\n",
      "\n"
     ]
    }
   ],
   "source": [
    "print(metrics.classification_report(df_netflix_all_tweets['sentimento'], df_netflix_all_tweets['sentiment_sentilex']))"
   ]
  },
  {
   "cell_type": "code",
   "execution_count": 15,
   "metadata": {},
   "outputs": [
    {
     "name": "stdout",
     "output_type": "stream",
     "text": [
      "Predito    0.0   1.0   2.0    All\n",
      "Real                             \n",
      "0.0       7943   706   370   9019\n",
      "1.0       1028   507    92   1627\n",
      "2.0      10177   616   771  11564\n",
      "All      19148  1829  1233  22210\n"
     ]
    }
   ],
   "source": [
    "print (pd.crosstab(df_netflix_all_tweets['sentimento'], df_netflix_all_tweets['sentiment_sentilex'], rownames=['Real'], colnames=['Predito'], margins=True))"
   ]
  },
  {
   "cell_type": "markdown",
   "metadata": {},
   "source": [
    "## Leia"
   ]
  },
  {
   "cell_type": "code",
   "execution_count": 16,
   "metadata": {},
   "outputs": [],
   "source": [
    "#LeIA is a fork from tool and lexicon VADER (Valence Aware Dictionary and sEntiment Reasoner) adapted to portuguese texts\n",
    "#https://github.com/rafjaa/LeIA\n",
    "import leia\n",
    "from leia import SentimentIntensityAnalyzer\n",
    "\n",
    "def sentiment_prediction_leia(text):\n",
    "    \n",
    "    s = SentimentIntensityAnalyzer()\n",
    "    \n",
    "    polarity = s.polarity_scores(text)\n",
    "    return polarity\n",
    "   \n",
    "\n",
    "df_netflix_all_tweets['sentiment_leia_compound']= df_netflix_all_tweets['text_cleaned'].apply(lambda x:sentiment_prediction_leia(x))"
   ]
  },
  {
   "cell_type": "code",
   "execution_count": 17,
   "metadata": {},
   "outputs": [
    {
     "data": {
      "text/html": [
       "<div>\n",
       "<style scoped>\n",
       "    .dataframe tbody tr th:only-of-type {\n",
       "        vertical-align: middle;\n",
       "    }\n",
       "\n",
       "    .dataframe tbody tr th {\n",
       "        vertical-align: top;\n",
       "    }\n",
       "\n",
       "    .dataframe thead th {\n",
       "        text-align: right;\n",
       "    }\n",
       "</style>\n",
       "<table border=\"1\" class=\"dataframe\">\n",
       "  <thead>\n",
       "    <tr style=\"text-align: right;\">\n",
       "      <th></th>\n",
       "      <th>reaction_to_status_id</th>\n",
       "      <th>reaction_to_status_text</th>\n",
       "      <th>reaction_to_status_created_at</th>\n",
       "      <th>id</th>\n",
       "      <th>text_x</th>\n",
       "      <th>created_at</th>\n",
       "      <th>url</th>\n",
       "      <th>text_cleaned</th>\n",
       "      <th>in_reply_to_status_id_str</th>\n",
       "      <th>quoted_status_id_str</th>\n",
       "      <th>sentimento</th>\n",
       "      <th>sentiment_sentilex</th>\n",
       "      <th>sentiment_leia_compound</th>\n",
       "    </tr>\n",
       "  </thead>\n",
       "  <tbody>\n",
       "    <tr>\n",
       "      <th>0</th>\n",
       "      <td>1356229042647789569</td>\n",
       "      <td>Em fevereiro não posso, tô com a agenda cheia. 👇🏾 https://t.co/IBI89vqg5H</td>\n",
       "      <td>Mon Feb 01 13:12:55 +0000 2021</td>\n",
       "      <td>1356229083223515136</td>\n",
       "      <td>@NetflixBrasil oie https://t.co/33L2geGxWD</td>\n",
       "      <td>Mon Feb 01 13:13:05 +0000 2021</td>\n",
       "      <td>NaN</td>\n",
       "      <td>mencao_arroba  oie</td>\n",
       "      <td>1356229042647789569</td>\n",
       "      <td>None</td>\n",
       "      <td>0.0</td>\n",
       "      <td>0.0</td>\n",
       "      <td>{'neg': 0.0, 'neu': 1.0, 'pos': 0.0, 'compound': 0.0}</td>\n",
       "    </tr>\n",
       "    <tr>\n",
       "      <th>1</th>\n",
       "      <td>1356229042647789569</td>\n",
       "      <td>Em fevereiro não posso, tô com a agenda cheia. 👇🏾 https://t.co/IBI89vqg5H</td>\n",
       "      <td>Mon Feb 01 13:12:55 +0000 2021</td>\n",
       "      <td>1356229130489126920</td>\n",
       "      <td>@NetflixBrasil Já ia falar que vcs estavam atrasados 😂</td>\n",
       "      <td>Mon Feb 01 13:13:16 +0000 2021</td>\n",
       "      <td>NaN</td>\n",
       "      <td>mencao_arroba  ja ia falar que vcs estavam atrasados  rosto_chorando_de_rir</td>\n",
       "      <td>1356229042647789569</td>\n",
       "      <td>None</td>\n",
       "      <td>2.0</td>\n",
       "      <td>0.0</td>\n",
       "      <td>{'neg': 0.0, 'neu': 1.0, 'pos': 0.0, 'compound': 0.0}</td>\n",
       "    </tr>\n",
       "  </tbody>\n",
       "</table>\n",
       "</div>"
      ],
      "text/plain": [
       "  reaction_to_status_id  \\\n",
       "0   1356229042647789569   \n",
       "1   1356229042647789569   \n",
       "\n",
       "                                                     reaction_to_status_text  \\\n",
       "0  Em fevereiro não posso, tô com a agenda cheia. 👇🏾 https://t.co/IBI89vqg5H   \n",
       "1  Em fevereiro não posso, tô com a agenda cheia. 👇🏾 https://t.co/IBI89vqg5H   \n",
       "\n",
       "    reaction_to_status_created_at                   id  \\\n",
       "0  Mon Feb 01 13:12:55 +0000 2021  1356229083223515136   \n",
       "1  Mon Feb 01 13:12:55 +0000 2021  1356229130489126920   \n",
       "\n",
       "                                                   text_x  \\\n",
       "0              @NetflixBrasil oie https://t.co/33L2geGxWD   \n",
       "1  @NetflixBrasil Já ia falar que vcs estavam atrasados 😂   \n",
       "\n",
       "                       created_at  url  \\\n",
       "0  Mon Feb 01 13:13:05 +0000 2021  NaN   \n",
       "1  Mon Feb 01 13:13:16 +0000 2021  NaN   \n",
       "\n",
       "                                                                    text_cleaned  \\\n",
       "0                                                           mencao_arroba  oie     \n",
       "1   mencao_arroba  ja ia falar que vcs estavam atrasados  rosto_chorando_de_rir    \n",
       "\n",
       "  in_reply_to_status_id_str quoted_status_id_str  sentimento  \\\n",
       "0       1356229042647789569                 None         0.0   \n",
       "1       1356229042647789569                 None         2.0   \n",
       "\n",
       "   sentiment_sentilex                                sentiment_leia_compound  \n",
       "0                 0.0  {'neg': 0.0, 'neu': 1.0, 'pos': 0.0, 'compound': 0.0}  \n",
       "1                 0.0  {'neg': 0.0, 'neu': 1.0, 'pos': 0.0, 'compound': 0.0}  "
      ]
     },
     "execution_count": 17,
     "metadata": {},
     "output_type": "execute_result"
    }
   ],
   "source": [
    "df_netflix_all_tweets.head(2)"
   ]
  },
  {
   "cell_type": "code",
   "execution_count": 18,
   "metadata": {},
   "outputs": [],
   "source": [
    "#extractig only de compound value from 'sentiment_leia_compound' column\n",
    "df_netflix_all_tweets['sentiment_leia_number'] = df_netflix_all_tweets['sentiment_leia_compound'].apply(pd.Series)['compound']"
   ]
  },
  {
   "cell_type": "code",
   "execution_count": 19,
   "metadata": {},
   "outputs": [
    {
     "data": {
      "text/html": [
       "<div>\n",
       "<style scoped>\n",
       "    .dataframe tbody tr th:only-of-type {\n",
       "        vertical-align: middle;\n",
       "    }\n",
       "\n",
       "    .dataframe tbody tr th {\n",
       "        vertical-align: top;\n",
       "    }\n",
       "\n",
       "    .dataframe thead th {\n",
       "        text-align: right;\n",
       "    }\n",
       "</style>\n",
       "<table border=\"1\" class=\"dataframe\">\n",
       "  <thead>\n",
       "    <tr style=\"text-align: right;\">\n",
       "      <th></th>\n",
       "      <th>reaction_to_status_id</th>\n",
       "      <th>reaction_to_status_text</th>\n",
       "      <th>reaction_to_status_created_at</th>\n",
       "      <th>id</th>\n",
       "      <th>text_x</th>\n",
       "      <th>created_at</th>\n",
       "      <th>url</th>\n",
       "      <th>text_cleaned</th>\n",
       "      <th>in_reply_to_status_id_str</th>\n",
       "      <th>quoted_status_id_str</th>\n",
       "      <th>sentimento</th>\n",
       "      <th>sentiment_sentilex</th>\n",
       "      <th>sentiment_leia_compound</th>\n",
       "      <th>sentiment_leia_number</th>\n",
       "    </tr>\n",
       "  </thead>\n",
       "  <tbody>\n",
       "    <tr>\n",
       "      <th>0</th>\n",
       "      <td>1356229042647789569</td>\n",
       "      <td>Em fevereiro não posso, tô com a agenda cheia. 👇🏾 https://t.co/IBI89vqg5H</td>\n",
       "      <td>Mon Feb 01 13:12:55 +0000 2021</td>\n",
       "      <td>1356229083223515136</td>\n",
       "      <td>@NetflixBrasil oie https://t.co/33L2geGxWD</td>\n",
       "      <td>Mon Feb 01 13:13:05 +0000 2021</td>\n",
       "      <td>NaN</td>\n",
       "      <td>mencao_arroba  oie</td>\n",
       "      <td>1356229042647789569</td>\n",
       "      <td>None</td>\n",
       "      <td>0.0</td>\n",
       "      <td>0.0</td>\n",
       "      <td>{'neg': 0.0, 'neu': 1.0, 'pos': 0.0, 'compound': 0.0}</td>\n",
       "      <td>0.0</td>\n",
       "    </tr>\n",
       "    <tr>\n",
       "      <th>1</th>\n",
       "      <td>1356229042647789569</td>\n",
       "      <td>Em fevereiro não posso, tô com a agenda cheia. 👇🏾 https://t.co/IBI89vqg5H</td>\n",
       "      <td>Mon Feb 01 13:12:55 +0000 2021</td>\n",
       "      <td>1356229130489126920</td>\n",
       "      <td>@NetflixBrasil Já ia falar que vcs estavam atrasados 😂</td>\n",
       "      <td>Mon Feb 01 13:13:16 +0000 2021</td>\n",
       "      <td>NaN</td>\n",
       "      <td>mencao_arroba  ja ia falar que vcs estavam atrasados  rosto_chorando_de_rir</td>\n",
       "      <td>1356229042647789569</td>\n",
       "      <td>None</td>\n",
       "      <td>2.0</td>\n",
       "      <td>0.0</td>\n",
       "      <td>{'neg': 0.0, 'neu': 1.0, 'pos': 0.0, 'compound': 0.0}</td>\n",
       "      <td>0.0</td>\n",
       "    </tr>\n",
       "  </tbody>\n",
       "</table>\n",
       "</div>"
      ],
      "text/plain": [
       "  reaction_to_status_id  \\\n",
       "0   1356229042647789569   \n",
       "1   1356229042647789569   \n",
       "\n",
       "                                                     reaction_to_status_text  \\\n",
       "0  Em fevereiro não posso, tô com a agenda cheia. 👇🏾 https://t.co/IBI89vqg5H   \n",
       "1  Em fevereiro não posso, tô com a agenda cheia. 👇🏾 https://t.co/IBI89vqg5H   \n",
       "\n",
       "    reaction_to_status_created_at                   id  \\\n",
       "0  Mon Feb 01 13:12:55 +0000 2021  1356229083223515136   \n",
       "1  Mon Feb 01 13:12:55 +0000 2021  1356229130489126920   \n",
       "\n",
       "                                                   text_x  \\\n",
       "0              @NetflixBrasil oie https://t.co/33L2geGxWD   \n",
       "1  @NetflixBrasil Já ia falar que vcs estavam atrasados 😂   \n",
       "\n",
       "                       created_at  url  \\\n",
       "0  Mon Feb 01 13:13:05 +0000 2021  NaN   \n",
       "1  Mon Feb 01 13:13:16 +0000 2021  NaN   \n",
       "\n",
       "                                                                    text_cleaned  \\\n",
       "0                                                           mencao_arroba  oie     \n",
       "1   mencao_arroba  ja ia falar que vcs estavam atrasados  rosto_chorando_de_rir    \n",
       "\n",
       "  in_reply_to_status_id_str quoted_status_id_str  sentimento  \\\n",
       "0       1356229042647789569                 None         0.0   \n",
       "1       1356229042647789569                 None         2.0   \n",
       "\n",
       "   sentiment_sentilex                                sentiment_leia_compound  \\\n",
       "0                 0.0  {'neg': 0.0, 'neu': 1.0, 'pos': 0.0, 'compound': 0.0}   \n",
       "1                 0.0  {'neg': 0.0, 'neu': 1.0, 'pos': 0.0, 'compound': 0.0}   \n",
       "\n",
       "   sentiment_leia_number  \n",
       "0                    0.0  \n",
       "1                    0.0  "
      ]
     },
     "execution_count": 19,
     "metadata": {},
     "output_type": "execute_result"
    }
   ],
   "source": [
    "df_netflix_all_tweets.head(2)"
   ]
  },
  {
   "cell_type": "code",
   "execution_count": 20,
   "metadata": {},
   "outputs": [],
   "source": [
    "#adapting leIa sentiment number to compare with 'sentimento' column\n",
    "df_netflix_all_tweets['sentiment_leia_number_to_compare_metrics'] = df_netflix_all_tweets['sentiment_leia_number'].apply(lambda x: 2.0 if x > 0 else 1.0 if x < 0 else 0.0)"
   ]
  },
  {
   "cell_type": "code",
   "execution_count": null,
   "metadata": {},
   "outputs": [],
   "source": []
  },
  {
   "cell_type": "code",
   "execution_count": 21,
   "metadata": {},
   "outputs": [
    {
     "data": {
      "text/html": [
       "<div>\n",
       "<style scoped>\n",
       "    .dataframe tbody tr th:only-of-type {\n",
       "        vertical-align: middle;\n",
       "    }\n",
       "\n",
       "    .dataframe tbody tr th {\n",
       "        vertical-align: top;\n",
       "    }\n",
       "\n",
       "    .dataframe thead th {\n",
       "        text-align: right;\n",
       "    }\n",
       "</style>\n",
       "<table border=\"1\" class=\"dataframe\">\n",
       "  <thead>\n",
       "    <tr style=\"text-align: right;\">\n",
       "      <th></th>\n",
       "      <th>reaction_to_status_id</th>\n",
       "      <th>reaction_to_status_text</th>\n",
       "      <th>reaction_to_status_created_at</th>\n",
       "      <th>id</th>\n",
       "      <th>text_x</th>\n",
       "      <th>created_at</th>\n",
       "      <th>url</th>\n",
       "      <th>text_cleaned</th>\n",
       "      <th>in_reply_to_status_id_str</th>\n",
       "      <th>quoted_status_id_str</th>\n",
       "      <th>sentimento</th>\n",
       "      <th>sentiment_sentilex</th>\n",
       "      <th>sentiment_leia_compound</th>\n",
       "      <th>sentiment_leia_number</th>\n",
       "      <th>sentiment_leia_number_to_compare_metrics</th>\n",
       "    </tr>\n",
       "  </thead>\n",
       "  <tbody>\n",
       "    <tr>\n",
       "      <th>0</th>\n",
       "      <td>1356229042647789569</td>\n",
       "      <td>Em fevereiro não posso, tô com a agenda cheia. 👇🏾 https://t.co/IBI89vqg5H</td>\n",
       "      <td>Mon Feb 01 13:12:55 +0000 2021</td>\n",
       "      <td>1356229083223515136</td>\n",
       "      <td>@NetflixBrasil oie https://t.co/33L2geGxWD</td>\n",
       "      <td>Mon Feb 01 13:13:05 +0000 2021</td>\n",
       "      <td>NaN</td>\n",
       "      <td>mencao_arroba  oie</td>\n",
       "      <td>1356229042647789569</td>\n",
       "      <td>None</td>\n",
       "      <td>0.0</td>\n",
       "      <td>0.0</td>\n",
       "      <td>{'neg': 0.0, 'neu': 1.0, 'pos': 0.0, 'compound': 0.0}</td>\n",
       "      <td>0.0</td>\n",
       "      <td>0.0</td>\n",
       "    </tr>\n",
       "    <tr>\n",
       "      <th>1</th>\n",
       "      <td>1356229042647789569</td>\n",
       "      <td>Em fevereiro não posso, tô com a agenda cheia. 👇🏾 https://t.co/IBI89vqg5H</td>\n",
       "      <td>Mon Feb 01 13:12:55 +0000 2021</td>\n",
       "      <td>1356229130489126920</td>\n",
       "      <td>@NetflixBrasil Já ia falar que vcs estavam atrasados 😂</td>\n",
       "      <td>Mon Feb 01 13:13:16 +0000 2021</td>\n",
       "      <td>NaN</td>\n",
       "      <td>mencao_arroba  ja ia falar que vcs estavam atrasados  rosto_chorando_de_rir</td>\n",
       "      <td>1356229042647789569</td>\n",
       "      <td>None</td>\n",
       "      <td>2.0</td>\n",
       "      <td>0.0</td>\n",
       "      <td>{'neg': 0.0, 'neu': 1.0, 'pos': 0.0, 'compound': 0.0}</td>\n",
       "      <td>0.0</td>\n",
       "      <td>0.0</td>\n",
       "    </tr>\n",
       "  </tbody>\n",
       "</table>\n",
       "</div>"
      ],
      "text/plain": [
       "  reaction_to_status_id  \\\n",
       "0   1356229042647789569   \n",
       "1   1356229042647789569   \n",
       "\n",
       "                                                     reaction_to_status_text  \\\n",
       "0  Em fevereiro não posso, tô com a agenda cheia. 👇🏾 https://t.co/IBI89vqg5H   \n",
       "1  Em fevereiro não posso, tô com a agenda cheia. 👇🏾 https://t.co/IBI89vqg5H   \n",
       "\n",
       "    reaction_to_status_created_at                   id  \\\n",
       "0  Mon Feb 01 13:12:55 +0000 2021  1356229083223515136   \n",
       "1  Mon Feb 01 13:12:55 +0000 2021  1356229130489126920   \n",
       "\n",
       "                                                   text_x  \\\n",
       "0              @NetflixBrasil oie https://t.co/33L2geGxWD   \n",
       "1  @NetflixBrasil Já ia falar que vcs estavam atrasados 😂   \n",
       "\n",
       "                       created_at  url  \\\n",
       "0  Mon Feb 01 13:13:05 +0000 2021  NaN   \n",
       "1  Mon Feb 01 13:13:16 +0000 2021  NaN   \n",
       "\n",
       "                                                                    text_cleaned  \\\n",
       "0                                                           mencao_arroba  oie     \n",
       "1   mencao_arroba  ja ia falar que vcs estavam atrasados  rosto_chorando_de_rir    \n",
       "\n",
       "  in_reply_to_status_id_str quoted_status_id_str  sentimento  \\\n",
       "0       1356229042647789569                 None         0.0   \n",
       "1       1356229042647789569                 None         2.0   \n",
       "\n",
       "   sentiment_sentilex                                sentiment_leia_compound  \\\n",
       "0                 0.0  {'neg': 0.0, 'neu': 1.0, 'pos': 0.0, 'compound': 0.0}   \n",
       "1                 0.0  {'neg': 0.0, 'neu': 1.0, 'pos': 0.0, 'compound': 0.0}   \n",
       "\n",
       "   sentiment_leia_number  sentiment_leia_number_to_compare_metrics  \n",
       "0                    0.0                                       0.0  \n",
       "1                    0.0                                       0.0  "
      ]
     },
     "execution_count": 21,
     "metadata": {},
     "output_type": "execute_result"
    }
   ],
   "source": [
    "df_netflix_all_tweets.head(2)"
   ]
  },
  {
   "cell_type": "code",
   "execution_count": 22,
   "metadata": {},
   "outputs": [],
   "source": [
    "#removing columns of no use\n",
    "df_netflix_all_tweets.drop(('sentiment_leia_compound'),axis=1, inplace=True)"
   ]
  },
  {
   "cell_type": "code",
   "execution_count": 23,
   "metadata": {},
   "outputs": [
    {
     "data": {
      "text/html": [
       "<div>\n",
       "<style scoped>\n",
       "    .dataframe tbody tr th:only-of-type {\n",
       "        vertical-align: middle;\n",
       "    }\n",
       "\n",
       "    .dataframe tbody tr th {\n",
       "        vertical-align: top;\n",
       "    }\n",
       "\n",
       "    .dataframe thead th {\n",
       "        text-align: right;\n",
       "    }\n",
       "</style>\n",
       "<table border=\"1\" class=\"dataframe\">\n",
       "  <thead>\n",
       "    <tr style=\"text-align: right;\">\n",
       "      <th></th>\n",
       "      <th>reaction_to_status_id</th>\n",
       "      <th>reaction_to_status_text</th>\n",
       "      <th>reaction_to_status_created_at</th>\n",
       "      <th>id</th>\n",
       "      <th>text_x</th>\n",
       "      <th>created_at</th>\n",
       "      <th>url</th>\n",
       "      <th>text_cleaned</th>\n",
       "      <th>in_reply_to_status_id_str</th>\n",
       "      <th>quoted_status_id_str</th>\n",
       "      <th>sentimento</th>\n",
       "      <th>sentiment_sentilex</th>\n",
       "      <th>sentiment_leia_number</th>\n",
       "      <th>sentiment_leia_number_to_compare_metrics</th>\n",
       "    </tr>\n",
       "  </thead>\n",
       "  <tbody>\n",
       "    <tr>\n",
       "      <th>0</th>\n",
       "      <td>1356229042647789569</td>\n",
       "      <td>Em fevereiro não posso, tô com a agenda cheia. 👇🏾 https://t.co/IBI89vqg5H</td>\n",
       "      <td>Mon Feb 01 13:12:55 +0000 2021</td>\n",
       "      <td>1356229083223515136</td>\n",
       "      <td>@NetflixBrasil oie https://t.co/33L2geGxWD</td>\n",
       "      <td>Mon Feb 01 13:13:05 +0000 2021</td>\n",
       "      <td>NaN</td>\n",
       "      <td>mencao_arroba  oie</td>\n",
       "      <td>1356229042647789569</td>\n",
       "      <td>None</td>\n",
       "      <td>0.0</td>\n",
       "      <td>0.0</td>\n",
       "      <td>0.0</td>\n",
       "      <td>0.0</td>\n",
       "    </tr>\n",
       "    <tr>\n",
       "      <th>1</th>\n",
       "      <td>1356229042647789569</td>\n",
       "      <td>Em fevereiro não posso, tô com a agenda cheia. 👇🏾 https://t.co/IBI89vqg5H</td>\n",
       "      <td>Mon Feb 01 13:12:55 +0000 2021</td>\n",
       "      <td>1356229130489126920</td>\n",
       "      <td>@NetflixBrasil Já ia falar que vcs estavam atrasados 😂</td>\n",
       "      <td>Mon Feb 01 13:13:16 +0000 2021</td>\n",
       "      <td>NaN</td>\n",
       "      <td>mencao_arroba  ja ia falar que vcs estavam atrasados  rosto_chorando_de_rir</td>\n",
       "      <td>1356229042647789569</td>\n",
       "      <td>None</td>\n",
       "      <td>2.0</td>\n",
       "      <td>0.0</td>\n",
       "      <td>0.0</td>\n",
       "      <td>0.0</td>\n",
       "    </tr>\n",
       "  </tbody>\n",
       "</table>\n",
       "</div>"
      ],
      "text/plain": [
       "  reaction_to_status_id  \\\n",
       "0   1356229042647789569   \n",
       "1   1356229042647789569   \n",
       "\n",
       "                                                     reaction_to_status_text  \\\n",
       "0  Em fevereiro não posso, tô com a agenda cheia. 👇🏾 https://t.co/IBI89vqg5H   \n",
       "1  Em fevereiro não posso, tô com a agenda cheia. 👇🏾 https://t.co/IBI89vqg5H   \n",
       "\n",
       "    reaction_to_status_created_at                   id  \\\n",
       "0  Mon Feb 01 13:12:55 +0000 2021  1356229083223515136   \n",
       "1  Mon Feb 01 13:12:55 +0000 2021  1356229130489126920   \n",
       "\n",
       "                                                   text_x  \\\n",
       "0              @NetflixBrasil oie https://t.co/33L2geGxWD   \n",
       "1  @NetflixBrasil Já ia falar que vcs estavam atrasados 😂   \n",
       "\n",
       "                       created_at  url  \\\n",
       "0  Mon Feb 01 13:13:05 +0000 2021  NaN   \n",
       "1  Mon Feb 01 13:13:16 +0000 2021  NaN   \n",
       "\n",
       "                                                                    text_cleaned  \\\n",
       "0                                                           mencao_arroba  oie     \n",
       "1   mencao_arroba  ja ia falar que vcs estavam atrasados  rosto_chorando_de_rir    \n",
       "\n",
       "  in_reply_to_status_id_str quoted_status_id_str  sentimento  \\\n",
       "0       1356229042647789569                 None         0.0   \n",
       "1       1356229042647789569                 None         2.0   \n",
       "\n",
       "   sentiment_sentilex  sentiment_leia_number  \\\n",
       "0                 0.0                    0.0   \n",
       "1                 0.0                    0.0   \n",
       "\n",
       "   sentiment_leia_number_to_compare_metrics  \n",
       "0                                       0.0  \n",
       "1                                       0.0  "
      ]
     },
     "execution_count": 23,
     "metadata": {},
     "output_type": "execute_result"
    }
   ],
   "source": [
    "df_netflix_all_tweets.head(2)"
   ]
  },
  {
   "cell_type": "code",
   "execution_count": 24,
   "metadata": {},
   "outputs": [
    {
     "data": {
      "text/plain": [
       "Text(0.5, 1.0, 'Sentiment Distribution - Leia Lexicon')"
      ]
     },
     "execution_count": 24,
     "metadata": {},
     "output_type": "execute_result"
    },
    {
     "data": {
      "image/png": "[encoded data removed]",
      "text/plain": [
       "<Figure size 1200x600 with 1 Axes>"
      ]
     },
     "metadata": {},
     "output_type": "display_data"
    }
   ],
   "source": [
    "#sentiment distribution according to LeIa\n",
    "plt.figure(figsize=(12,6))\n",
    "ax = sns.countplot(x='sentiment_leia_number_to_compare_metrics',palette=['gray','red','green'],data=df_netflix_all_tweets)\n",
    "ax.set_xticklabels(['Neutral','Negative','Positive'], rotation='horizontal', fontsize=10)\n",
    "ax.set_title('Sentiment Distribution - Leia Lexicon')"
   ]
  },
  {
   "cell_type": "code",
   "execution_count": 25,
   "metadata": {},
   "outputs": [
    {
     "data": {
      "text/plain": [
       "0.4115263394867177"
      ]
     },
     "execution_count": 25,
     "metadata": {},
     "output_type": "execute_result"
    }
   ],
   "source": [
    "from sklearn.metrics import accuracy_score\n",
    "accuracy_score(df_netflix_all_tweets['sentimento'], df_netflix_all_tweets['sentiment_leia_number_to_compare_metrics'])"
   ]
  },
  {
   "cell_type": "code",
   "execution_count": 26,
   "metadata": {},
   "outputs": [
    {
     "name": "stdout",
     "output_type": "stream",
     "text": [
      "              precision    recall  f1-score   support\n",
      "\n",
      "         0.0       0.42      0.64      0.51      9019\n",
      "         1.0       0.20      0.53      0.29      1627\n",
      "         2.0       0.60      0.22      0.32     11564\n",
      "\n",
      "    accuracy                           0.41     22210\n",
      "   macro avg       0.41      0.46      0.37     22210\n",
      "weighted avg       0.50      0.41      0.39     22210\n",
      "\n"
     ]
    }
   ],
   "source": [
    "print(metrics.classification_report(df_netflix_all_tweets['sentimento'], df_netflix_all_tweets['sentiment_leia_number_to_compare_metrics']))"
   ]
  },
  {
   "cell_type": "code",
   "execution_count": 27,
   "metadata": {},
   "outputs": [
    {
     "name": "stdout",
     "output_type": "stream",
     "text": [
      "Predito    0.0   1.0   2.0    All\n",
      "Real                             \n",
      "0.0       5777  1798  1444   9019\n",
      "1.0        526   868   233   1627\n",
      "2.0       7320  1749  2495  11564\n",
      "All      13623  4415  4172  22210\n"
     ]
    }
   ],
   "source": [
    "print (pd.crosstab(df_netflix_all_tweets['sentimento'], df_netflix_all_tweets['sentiment_leia_number_to_compare_metrics'], rownames=['Real'], colnames=['Predito'], margins=True))"
   ]
  },
  {
   "cell_type": "code",
   "execution_count": null,
   "metadata": {},
   "outputs": [],
   "source": []
  },
  {
   "cell_type": "code",
   "execution_count": null,
   "metadata": {},
   "outputs": [],
   "source": []
  },
  {
   "cell_type": "code",
   "execution_count": 28,
   "metadata": {},
   "outputs": [],
   "source": [
    "#Preparing data to apply other classification algorithms\n",
    "stemmer_ptbr = RSLPStemmer()\n",
    "def stemming_tokenizer(raw_text):     \n",
    "    words = raw_text.split() \n",
    "    words = [word for word in words if word not in final_stopwords_list]\n",
    "    words = [stemmer_ptbr.stem(word) for word in words]\n",
    "    return words  "
   ]
  },
  {
   "cell_type": "code",
   "execution_count": null,
   "metadata": {},
   "outputs": [],
   "source": []
  },
  {
   "cell_type": "code",
   "execution_count": 29,
   "metadata": {},
   "outputs": [
    {
     "data": {
      "text/html": [
       "<div>\n",
       "<style scoped>\n",
       "    .dataframe tbody tr th:only-of-type {\n",
       "        vertical-align: middle;\n",
       "    }\n",
       "\n",
       "    .dataframe tbody tr th {\n",
       "        vertical-align: top;\n",
       "    }\n",
       "\n",
       "    .dataframe thead th {\n",
       "        text-align: right;\n",
       "    }\n",
       "</style>\n",
       "<table border=\"1\" class=\"dataframe\">\n",
       "  <thead>\n",
       "    <tr style=\"text-align: right;\">\n",
       "      <th></th>\n",
       "      <th>reaction_to_status_id</th>\n",
       "      <th>reaction_to_status_text</th>\n",
       "      <th>reaction_to_status_created_at</th>\n",
       "      <th>id</th>\n",
       "      <th>text_x</th>\n",
       "      <th>created_at</th>\n",
       "      <th>url</th>\n",
       "      <th>text_cleaned</th>\n",
       "      <th>in_reply_to_status_id_str</th>\n",
       "      <th>quoted_status_id_str</th>\n",
       "      <th>sentimento</th>\n",
       "      <th>sentiment_sentilex</th>\n",
       "      <th>sentiment_leia_number</th>\n",
       "      <th>sentiment_leia_number_to_compare_metrics</th>\n",
       "    </tr>\n",
       "  </thead>\n",
       "  <tbody>\n",
       "    <tr>\n",
       "      <th>0</th>\n",
       "      <td>1356229042647789569</td>\n",
       "      <td>Em fevereiro não posso, tô com a agenda cheia. 👇🏾 https://t.co/IBI89vqg5H</td>\n",
       "      <td>Mon Feb 01 13:12:55 +0000 2021</td>\n",
       "      <td>1356229083223515136</td>\n",
       "      <td>@NetflixBrasil oie https://t.co/33L2geGxWD</td>\n",
       "      <td>Mon Feb 01 13:13:05 +0000 2021</td>\n",
       "      <td>NaN</td>\n",
       "      <td>mencao_arroba  oie</td>\n",
       "      <td>1356229042647789569</td>\n",
       "      <td>None</td>\n",
       "      <td>0.0</td>\n",
       "      <td>0.0</td>\n",
       "      <td>0.0</td>\n",
       "      <td>0.0</td>\n",
       "    </tr>\n",
       "    <tr>\n",
       "      <th>1</th>\n",
       "      <td>1356229042647789569</td>\n",
       "      <td>Em fevereiro não posso, tô com a agenda cheia. 👇🏾 https://t.co/IBI89vqg5H</td>\n",
       "      <td>Mon Feb 01 13:12:55 +0000 2021</td>\n",
       "      <td>1356229130489126920</td>\n",
       "      <td>@NetflixBrasil Já ia falar que vcs estavam atrasados 😂</td>\n",
       "      <td>Mon Feb 01 13:13:16 +0000 2021</td>\n",
       "      <td>NaN</td>\n",
       "      <td>mencao_arroba  ja ia falar que vcs estavam atrasados  rosto_chorando_de_rir</td>\n",
       "      <td>1356229042647789569</td>\n",
       "      <td>None</td>\n",
       "      <td>2.0</td>\n",
       "      <td>0.0</td>\n",
       "      <td>0.0</td>\n",
       "      <td>0.0</td>\n",
       "    </tr>\n",
       "  </tbody>\n",
       "</table>\n",
       "</div>"
      ],
      "text/plain": [
       "  reaction_to_status_id  \\\n",
       "0   1356229042647789569   \n",
       "1   1356229042647789569   \n",
       "\n",
       "                                                     reaction_to_status_text  \\\n",
       "0  Em fevereiro não posso, tô com a agenda cheia. 👇🏾 https://t.co/IBI89vqg5H   \n",
       "1  Em fevereiro não posso, tô com a agenda cheia. 👇🏾 https://t.co/IBI89vqg5H   \n",
       "\n",
       "    reaction_to_status_created_at                   id  \\\n",
       "0  Mon Feb 01 13:12:55 +0000 2021  1356229083223515136   \n",
       "1  Mon Feb 01 13:12:55 +0000 2021  1356229130489126920   \n",
       "\n",
       "                                                   text_x  \\\n",
       "0              @NetflixBrasil oie https://t.co/33L2geGxWD   \n",
       "1  @NetflixBrasil Já ia falar que vcs estavam atrasados 😂   \n",
       "\n",
       "                       created_at  url  \\\n",
       "0  Mon Feb 01 13:13:05 +0000 2021  NaN   \n",
       "1  Mon Feb 01 13:13:16 +0000 2021  NaN   \n",
       "\n",
       "                                                                    text_cleaned  \\\n",
       "0                                                           mencao_arroba  oie     \n",
       "1   mencao_arroba  ja ia falar que vcs estavam atrasados  rosto_chorando_de_rir    \n",
       "\n",
       "  in_reply_to_status_id_str quoted_status_id_str  sentimento  \\\n",
       "0       1356229042647789569                 None         0.0   \n",
       "1       1356229042647789569                 None         2.0   \n",
       "\n",
       "   sentiment_sentilex  sentiment_leia_number  \\\n",
       "0                 0.0                    0.0   \n",
       "1                 0.0                    0.0   \n",
       "\n",
       "   sentiment_leia_number_to_compare_metrics  \n",
       "0                                       0.0  \n",
       "1                                       0.0  "
      ]
     },
     "execution_count": 29,
     "metadata": {},
     "output_type": "execute_result"
    }
   ],
   "source": [
    "df_netflix_all_tweets.head(2)"
   ]
  },
  {
   "cell_type": "code",
   "execution_count": 30,
   "metadata": {},
   "outputs": [],
   "source": [
    "y = df_netflix_all_tweets['sentimento']"
   ]
  },
  {
   "cell_type": "code",
   "execution_count": 31,
   "metadata": {},
   "outputs": [
    {
     "name": "stderr",
     "output_type": "stream",
     "text": [
      "/home/cesar/.local/lib/python3.10/site-packages/sklearn/feature_extraction/text.py:528: UserWarning: The parameter 'token_pattern' will not be used since 'tokenizer' is not None'\n",
      "  warnings.warn(\n"
     ]
    },
    {
     "data": {
      "text/plain": [
       "(22210, 634)"
      ]
     },
     "execution_count": 31,
     "metadata": {},
     "output_type": "execute_result"
    }
   ],
   "source": [
    "vectorizer_tfidf = TfidfVectorizer(tokenizer=stemming_tokenizer, min_df=0.001, max_df=0.99)\n",
    "X = vectorizer_tfidf.fit_transform(df_netflix_all_tweets['text_cleaned'])\n",
    "X.shape"
   ]
  },
  {
   "cell_type": "code",
   "execution_count": 32,
   "metadata": {},
   "outputs": [
    {
     "ename": "AttributeError",
     "evalue": "'TfidfVectorizer' object has no attribute 'get_feature_names'",
     "output_type": "error",
     "traceback": [
      "\u001b[0;31m---------------------------------------------------------------------------\u001b[0m",
      "\u001b[0;31mAttributeError\u001b[0m                            Traceback (most recent call last)",
      "Cell \u001b[0;32mIn[32], line 1\u001b[0m\n\u001b[0;32m----> 1\u001b[0m vocab \u001b[38;5;241m=\u001b[39m np\u001b[38;5;241m.\u001b[39marray(\u001b[43mvectorizer_tfidf\u001b[49m\u001b[38;5;241;43m.\u001b[39;49m\u001b[43mget_feature_names\u001b[49m())\n",
      "\u001b[0;31mAttributeError\u001b[0m: 'TfidfVectorizer' object has no attribute 'get_feature_names'"
     ]
    }
   ],
   "source": [
    "vocab = np.array(vectorizer_tfidf.get_feature_names())"
   ]
  },
  {
   "cell_type": "code",
   "execution_count": 34,
   "metadata": {},
   "outputs": [],
   "source": [
    "#splitting dataframe into training and test data\n",
    "from sklearn.model_selection import train_test_split\n",
    "X_train, X_test, y_train, y_test = train_test_split(X, y, test_size=0.33, random_state=11)"
   ]
  },
  {
   "cell_type": "markdown",
   "metadata": {},
   "source": [
    "## Randon Forest"
   ]
  },
  {
   "cell_type": "code",
   "execution_count": 35,
   "metadata": {},
   "outputs": [
    {
     "data": {
      "text/html": [
       "<style>#sk-container-id-1 {color: black;background-color: white;}#sk-container-id-1 pre{padding: 0;}#sk-container-id-1 div.sk-toggleable {background-color: white;}#sk-container-id-1 label.sk-toggleable__label {cursor: pointer;display: block;width: 100%;margin-bottom: 0;padding: 0.3em;box-sizing: border-box;text-align: center;}#sk-container-id-1 label.sk-toggleable__label-arrow:before {content: \"▸\";float: left;margin-right: 0.25em;color: #696969;}#sk-container-id-1 label.sk-toggleable__label-arrow:hover:before {color: black;}#sk-container-id-1 div.sk-estimator:hover label.sk-toggleable__label-arrow:before {color: black;}#sk-container-id-1 div.sk-toggleable__content {max-height: 0;max-width: 0;overflow: hidden;text-align: left;background-color: #f0f8ff;}#sk-container-id-1 div.sk-toggleable__content pre {margin: 0.2em;color: black;border-radius: 0.25em;background-color: #f0f8ff;}#sk-container-id-1 input.sk-toggleable__control:checked~div.sk-toggleable__content {max-height: 200px;max-width: 100%;overflow: auto;}#sk-container-id-1 input.sk-toggleable__control:checked~label.sk-toggleable__label-arrow:before {content: \"▾\";}#sk-container-id-1 div.sk-estimator input.sk-toggleable__control:checked~label.sk-toggleable__label {background-color: #d4ebff;}#sk-container-id-1 div.sk-label input.sk-toggleable__control:checked~label.sk-toggleable__label {background-color: #d4ebff;}#sk-container-id-1 input.sk-hidden--visually {border: 0;clip: rect(1px 1px 1px 1px);clip: rect(1px, 1px, 1px, 1px);height: 1px;margin: -1px;overflow: hidden;padding: 0;position: absolute;width: 1px;}#sk-container-id-1 div.sk-estimator {font-family: monospace;background-color: #f0f8ff;border: 1px dotted black;border-radius: 0.25em;box-sizing: border-box;margin-bottom: 0.5em;}#sk-container-id-1 div.sk-estimator:hover {background-color: #d4ebff;}#sk-container-id-1 div.sk-parallel-item::after {content: \"\";width: 100%;border-bottom: 1px solid gray;flex-grow: 1;}#sk-container-id-1 div.sk-label:hover label.sk-toggleable__label {background-color: #d4ebff;}#sk-container-id-1 div.sk-serial::before {content: \"\";position: absolute;border-left: 1px solid gray;box-sizing: border-box;top: 0;bottom: 0;left: 50%;z-index: 0;}#sk-container-id-1 div.sk-serial {display: flex;flex-direction: column;align-items: center;background-color: white;padding-right: 0.2em;padding-left: 0.2em;position: relative;}#sk-container-id-1 div.sk-item {position: relative;z-index: 1;}#sk-container-id-1 div.sk-parallel {display: flex;align-items: stretch;justify-content: center;background-color: white;position: relative;}#sk-container-id-1 div.sk-item::before, #sk-container-id-1 div.sk-parallel-item::before {content: \"\";position: absolute;border-left: 1px solid gray;box-sizing: border-box;top: 0;bottom: 0;left: 50%;z-index: -1;}#sk-container-id-1 div.sk-parallel-item {display: flex;flex-direction: column;z-index: 1;position: relative;background-color: white;}#sk-container-id-1 div.sk-parallel-item:first-child::after {align-self: flex-end;width: 50%;}#sk-container-id-1 div.sk-parallel-item:last-child::after {align-self: flex-start;width: 50%;}#sk-container-id-1 div.sk-parallel-item:only-child::after {width: 0;}#sk-container-id-1 div.sk-dashed-wrapped {border: 1px dashed gray;margin: 0 0.4em 0.5em 0.4em;box-sizing: border-box;padding-bottom: 0.4em;background-color: white;}#sk-container-id-1 div.sk-label label {font-family: monospace;font-weight: bold;display: inline-block;line-height: 1.2em;}#sk-container-id-1 div.sk-label-container {text-align: center;}#sk-container-id-1 div.sk-container {/* jupyter's `normalize.less` sets `[hidden] { display: none; }` but bootstrap.min.css set `[hidden] { display: none !important; }` so we also need the `!important` here to be able to override the default hidden behavior on the sphinx rendered scikit-learn.org. See: https://github.com/scikit-learn/scikit-learn/issues/21755 */display: inline-block !important;position: relative;}#sk-container-id-1 div.sk-text-repr-fallback {display: none;}</style><div id=\"sk-container-id-1\" class=\"sk-top-container\"><div class=\"sk-text-repr-fallback\"><pre>RandomForestClassifier(max_features=0.5, min_samples_leaf=3, n_estimators=40,\n",
       "                       n_jobs=-1, oob_score=True)</pre><b>In a Jupyter environment, please rerun this cell to show the HTML representation or trust the notebook. <br />On GitHub, the HTML representation is unable to render, please try loading this page with nbviewer.org.</b></div><div class=\"sk-container\" hidden><div class=\"sk-item\"><div class=\"sk-estimator sk-toggleable\"><input class=\"sk-toggleable__control sk-hidden--visually\" id=\"sk-estimator-id-1\" type=\"checkbox\" checked><label for=\"sk-estimator-id-1\" class=\"sk-toggleable__label sk-toggleable__label-arrow\">RandomForestClassifier</label><div class=\"sk-toggleable__content\"><pre>RandomForestClassifier(max_features=0.5, min_samples_leaf=3, n_estimators=40,\n",
       "                       n_jobs=-1, oob_score=True)</pre></div></div></div></div></div>"
      ],
      "text/plain": [
       "RandomForestClassifier(max_features=0.5, min_samples_leaf=3, n_estimators=40,\n",
       "                       n_jobs=-1, oob_score=True)"
      ]
     },
     "execution_count": 35,
     "metadata": {},
     "output_type": "execute_result"
    }
   ],
   "source": [
    "from sklearn.ensemble import RandomForestClassifier\n",
    "m = RandomForestClassifier(n_estimators=40, min_samples_leaf=3, max_features=0.5, n_jobs=-1, oob_score=True)\n",
    "m.fit(X_train, y_train)"
   ]
  },
  {
   "cell_type": "code",
   "execution_count": 36,
   "metadata": {},
   "outputs": [],
   "source": [
    "predicted = m.predict(X_test)"
   ]
  },
  {
   "cell_type": "code",
   "execution_count": 37,
   "metadata": {},
   "outputs": [
    {
     "data": {
      "text/plain": [
       "array([2., 2., 1., ..., 2., 0., 2.])"
      ]
     },
     "execution_count": 37,
     "metadata": {},
     "output_type": "execute_result"
    }
   ],
   "source": [
    "predicted"
   ]
  },
  {
   "cell_type": "code",
   "execution_count": null,
   "metadata": {},
   "outputs": [],
   "source": [
    "# importances = m.feature_importances_\n",
    "# sem_importancia = []\n",
    "# for i,w in enumerate(importances):\n",
    "#   if w == 0:\n",
    "#     sem_importancia.append(vocab[i])\n",
    "#     print(vocab[i],w)"
   ]
  },
  {
   "cell_type": "code",
   "execution_count": null,
   "metadata": {},
   "outputs": [],
   "source": [
    "# importances = m.feature_importances_\n",
    "# c_importancia = []\n",
    "# for i,w in enumerate(importances):\n",
    "#   if w > 0:\n",
    "#     c_importancia.append(vocab[i])\n",
    "#     print(vocab[i],w)"
   ]
  },
  {
   "cell_type": "code",
   "execution_count": null,
   "metadata": {},
   "outputs": [],
   "source": [
    "#len(c_importancia)"
   ]
  },
  {
   "cell_type": "code",
   "execution_count": null,
   "metadata": {},
   "outputs": [],
   "source": [
    "#len(sem_importancia)"
   ]
  },
  {
   "cell_type": "code",
   "execution_count": null,
   "metadata": {},
   "outputs": [],
   "source": []
  },
  {
   "cell_type": "code",
   "execution_count": 38,
   "metadata": {},
   "outputs": [
    {
     "data": {
      "text/plain": [
       "0.7924965893587994"
      ]
     },
     "execution_count": 38,
     "metadata": {},
     "output_type": "execute_result"
    }
   ],
   "source": [
    "from sklearn.metrics import accuracy_score\n",
    "accuracy_score(y_test, predicted)"
   ]
  },
  {
   "cell_type": "code",
   "execution_count": 39,
   "metadata": {},
   "outputs": [
    {
     "name": "stdout",
     "output_type": "stream",
     "text": [
      "              precision    recall  f1-score   support\n",
      "\n",
      "         0.0       0.71      0.87      0.78      2995\n",
      "         1.0       0.78      0.42      0.55       555\n",
      "         2.0       0.89      0.78      0.83      3780\n",
      "\n",
      "    accuracy                           0.79      7330\n",
      "   macro avg       0.79      0.69      0.72      7330\n",
      "weighted avg       0.81      0.79      0.79      7330\n",
      "\n"
     ]
    }
   ],
   "source": [
    "print(metrics.classification_report(y_test, predicted))"
   ]
  },
  {
   "cell_type": "code",
   "execution_count": null,
   "metadata": {},
   "outputs": [],
   "source": [
    "print (pd.crosstab(y_test, predicted, rownames=['Real'], colnames=['Predito'], margins=True))"
   ]
  },
  {
   "cell_type": "code",
   "execution_count": null,
   "metadata": {},
   "outputs": [],
   "source": []
  },
  {
   "cell_type": "markdown",
   "metadata": {},
   "source": [
    "## SVM"
   ]
  },
  {
   "cell_type": "code",
   "execution_count": 40,
   "metadata": {},
   "outputs": [],
   "source": [
    "from sklearn.svm import SVC \n",
    "svm_model_linear = SVC(kernel = 'linear', C = 1).fit(X_train, y_train) \n",
    "svm_predictions = svm_model_linear.predict(X_test)"
   ]
  },
  {
   "cell_type": "code",
   "execution_count": 41,
   "metadata": {},
   "outputs": [],
   "source": [
    "# model accuracy for X_test   \n",
    "accuracy = svm_model_linear.score(X_test, y_test) "
   ]
  },
  {
   "cell_type": "code",
   "execution_count": 42,
   "metadata": {},
   "outputs": [
    {
     "name": "stdout",
     "output_type": "stream",
     "text": [
      "0.8004092769440655\n"
     ]
    }
   ],
   "source": [
    "print(accuracy)"
   ]
  },
  {
   "cell_type": "code",
   "execution_count": 43,
   "metadata": {},
   "outputs": [
    {
     "name": "stdout",
     "output_type": "stream",
     "text": [
      "              precision    recall  f1-score   support\n",
      "\n",
      "         0.0       0.70      0.92      0.79      2995\n",
      "         1.0       0.82      0.38      0.52       555\n",
      "         2.0       0.92      0.77      0.84      3780\n",
      "\n",
      "    accuracy                           0.80      7330\n",
      "   macro avg       0.82      0.69      0.72      7330\n",
      "weighted avg       0.82      0.80      0.80      7330\n",
      "\n"
     ]
    }
   ],
   "source": [
    "print(metrics.classification_report(y_test, svm_predictions))"
   ]
  },
  {
   "cell_type": "code",
   "execution_count": 44,
   "metadata": {},
   "outputs": [
    {
     "name": "stdout",
     "output_type": "stream",
     "text": [
      "Predito   0.0  1.0   2.0   All\n",
      "Real                          \n",
      "0.0      2741   31   223  2995\n",
      "1.0       314  210    31   555\n",
      "2.0       850   14  2916  3780\n",
      "All      3905  255  3170  7330\n"
     ]
    }
   ],
   "source": [
    "print (pd.crosstab(y_test, svm_predictions, rownames=['Real'], colnames=['Predito'], margins=True))"
   ]
  },
  {
   "cell_type": "code",
   "execution_count": null,
   "metadata": {},
   "outputs": [],
   "source": []
  },
  {
   "cell_type": "markdown",
   "metadata": {},
   "source": [
    "## KNN"
   ]
  },
  {
   "cell_type": "code",
   "execution_count": 45,
   "metadata": {},
   "outputs": [
    {
     "name": "stdout",
     "output_type": "stream",
     "text": [
      "0.7092769440654844\n"
     ]
    }
   ],
   "source": [
    "from sklearn.neighbors import KNeighborsClassifier \n",
    "knn = KNeighborsClassifier(n_neighbors = 7).fit(X_train, y_train) \n",
    "knn_predictions = knn.predict(X_test)\n",
    "# accuracy on X_test \n",
    "accuracy = knn.score(X_test, y_test) \n",
    "print (accuracy)"
   ]
  },
  {
   "cell_type": "code",
   "execution_count": 46,
   "metadata": {},
   "outputs": [
    {
     "name": "stdout",
     "output_type": "stream",
     "text": [
      "              precision    recall  f1-score   support\n",
      "\n",
      "         0.0       0.69      0.66      0.67      2995\n",
      "         1.0       0.78      0.24      0.37       555\n",
      "         2.0       0.72      0.82      0.77      3780\n",
      "\n",
      "    accuracy                           0.71      7330\n",
      "   macro avg       0.73      0.57      0.60      7330\n",
      "weighted avg       0.71      0.71      0.70      7330\n",
      "\n"
     ]
    }
   ],
   "source": [
    "print(metrics.classification_report(y_test, knn_predictions))"
   ]
  },
  {
   "cell_type": "code",
   "execution_count": 47,
   "metadata": {},
   "outputs": [
    {
     "name": "stdout",
     "output_type": "stream",
     "text": [
      "Predito   0.0  1.0   2.0   All\n",
      "Real                          \n",
      "0.0      1975   27   993  2995\n",
      "1.0       220  134   201   555\n",
      "2.0       679   11  3090  3780\n",
      "All      2874  172  4284  7330\n"
     ]
    }
   ],
   "source": [
    "print (pd.crosstab(y_test, knn_predictions, rownames=['Real'], colnames=['Predito'], margins=True))"
   ]
  },
  {
   "cell_type": "markdown",
   "metadata": {},
   "source": [
    "## Decision Tree Classifier"
   ]
  },
  {
   "cell_type": "code",
   "execution_count": 48,
   "metadata": {},
   "outputs": [],
   "source": [
    "# training a DescisionTreeClassifier \n",
    "from sklearn.tree import DecisionTreeClassifier \n",
    "dtree_model = DecisionTreeClassifier(max_depth = 2).fit(X_train, y_train) \n",
    "dtree_predictions = dtree_model.predict(X_test) \n",
    "  \n"
   ]
  },
  {
   "cell_type": "code",
   "execution_count": 49,
   "metadata": {},
   "outputs": [
    {
     "data": {
      "text/plain": [
       "0.6244201909959072"
      ]
     },
     "execution_count": 49,
     "metadata": {},
     "output_type": "execute_result"
    }
   ],
   "source": [
    "from sklearn.metrics import accuracy_score\n",
    "accuracy_score(y_test, dtree_predictions)"
   ]
  },
  {
   "cell_type": "code",
   "execution_count": 50,
   "metadata": {},
   "outputs": [
    {
     "name": "stdout",
     "output_type": "stream",
     "text": [
      "              precision    recall  f1-score   support\n",
      "\n",
      "         0.0       0.52      0.99      0.68      2995\n",
      "         1.0       0.00      0.00      0.00       555\n",
      "         2.0       0.99      0.42      0.59      3780\n",
      "\n",
      "    accuracy                           0.62      7330\n",
      "   macro avg       0.50      0.47      0.43      7330\n",
      "weighted avg       0.72      0.62      0.59      7330\n",
      "\n"
     ]
    },
    {
     "name": "stderr",
     "output_type": "stream",
     "text": [
      "/home/cesar/.local/lib/python3.10/site-packages/sklearn/metrics/_classification.py:1344: UndefinedMetricWarning: Precision and F-score are ill-defined and being set to 0.0 in labels with no predicted samples. Use `zero_division` parameter to control this behavior.\n",
      "  _warn_prf(average, modifier, msg_start, len(result))\n",
      "/home/cesar/.local/lib/python3.10/site-packages/sklearn/metrics/_classification.py:1344: UndefinedMetricWarning: Precision and F-score are ill-defined and being set to 0.0 in labels with no predicted samples. Use `zero_division` parameter to control this behavior.\n",
      "  _warn_prf(average, modifier, msg_start, len(result))\n",
      "/home/cesar/.local/lib/python3.10/site-packages/sklearn/metrics/_classification.py:1344: UndefinedMetricWarning: Precision and F-score are ill-defined and being set to 0.0 in labels with no predicted samples. Use `zero_division` parameter to control this behavior.\n",
      "  _warn_prf(average, modifier, msg_start, len(result))\n"
     ]
    }
   ],
   "source": [
    "print(metrics.classification_report(y_test, dtree_predictions))"
   ]
  },
  {
   "cell_type": "code",
   "execution_count": 51,
   "metadata": {},
   "outputs": [
    {
     "name": "stdout",
     "output_type": "stream",
     "text": [
      "Predito   0.0   2.0   All\n",
      "Real                     \n",
      "0.0      2979    16  2995\n",
      "1.0       555     0   555\n",
      "2.0      2182  1598  3780\n",
      "All      5716  1614  7330\n"
     ]
    }
   ],
   "source": [
    "print (pd.crosstab(y_test, dtree_predictions, rownames=['Real'], colnames=['Predito'], margins=True))"
   ]
  },
  {
   "cell_type": "markdown",
   "metadata": {},
   "source": [
    "## Naive Bayes"
   ]
  },
  {
   "cell_type": "code",
   "execution_count": 52,
   "metadata": {},
   "outputs": [
    {
     "name": "stdout",
     "output_type": "stream",
     "text": [
      "0.40204638472032744\n"
     ]
    }
   ],
   "source": [
    "from sklearn.naive_bayes import GaussianNB \n",
    "gnb = GaussianNB().fit(X_train.toarray(), y_train) \n",
    "gnb_predictions = gnb.predict(X_test.toarray()) \n",
    "  \n",
    "# accuracy on X_test \n",
    "accuracy = gnb.score(X_test.toarray(), y_test) \n",
    "print (accuracy)"
   ]
  },
  {
   "cell_type": "code",
   "execution_count": null,
   "metadata": {},
   "outputs": [],
   "source": []
  },
  {
   "cell_type": "code",
   "execution_count": 53,
   "metadata": {},
   "outputs": [
    {
     "name": "stdout",
     "output_type": "stream",
     "text": [
      "              precision    recall  f1-score   support\n",
      "\n",
      "         0.0       0.55      0.13      0.21      2995\n",
      "         1.0       0.12      0.89      0.20       555\n",
      "         2.0       0.88      0.54      0.67      3780\n",
      "\n",
      "    accuracy                           0.40      7330\n",
      "   macro avg       0.52      0.52      0.36      7330\n",
      "weighted avg       0.69      0.40      0.45      7330\n",
      "\n"
     ]
    }
   ],
   "source": [
    "print(metrics.classification_report(y_test, gnb_predictions))"
   ]
  },
  {
   "cell_type": "code",
   "execution_count": 54,
   "metadata": {},
   "outputs": [
    {
     "name": "stdout",
     "output_type": "stream",
     "text": [
      "Predito  0.0   1.0   2.0   All\n",
      "Real                          \n",
      "0.0      396  2326   273  2995\n",
      "1.0       49   492    14   555\n",
      "2.0      269  1452  2059  3780\n",
      "All      714  4270  2346  7330\n"
     ]
    }
   ],
   "source": [
    "print (pd.crosstab(y_test, gnb_predictions, rownames=['Real'], colnames=['Predito'], margins=True))"
   ]
  },
  {
   "cell_type": "markdown",
   "metadata": {},
   "source": [
    "# Conclusion"
   ]
  },
  {
   "cell_type": "markdown",
   "metadata": {},
   "source": [
    "## SVM seems to be the best prediction algorithm with an acceptable accuracy of 0.81 "
   ]
  },
  {
   "cell_type": "code",
   "execution_count": null,
   "metadata": {},
   "outputs": [],
   "source": []
  }
 ],
 "metadata": {
  "kernelspec": {
   "display_name": "Python 3 (ipykernel)",
   "language": "python",
   "name": "python3"
  },
  "language_info": {
   "codemirror_mode": {
    "name": "ipython",
    "version": 3
   },
   "file_extension": ".py",
   "mimetype": "text/x-python",
   "name": "python",
   "nbconvert_exporter": "python",
   "pygments_lexer": "ipython3",
   "version": "3.10.6"
  }
 },
 "nbformat": 4,
 "nbformat_minor": 4
}
