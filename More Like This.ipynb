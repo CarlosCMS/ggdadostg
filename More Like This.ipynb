{
 "cells": [
  {
   "cell_type": "code",
   "execution_count": 10,
   "metadata": {},
   "outputs": [
    {
     "data": {
      "text/plain": [
       "{'name': 'elastic_node01',\n",
       " 'cluster_name': 'docker-cluster',\n",
       " 'cluster_uuid': 'csxYfu0gRRK6c-e0qb1QHw',\n",
       " 'version': {'number': '7.9.2',\n",
       "  'build_flavor': 'default',\n",
       "  'build_type': 'docker',\n",
       "  'build_hash': 'd34da0ea4a966c4e49417f2da2f244e3e97b4e6e',\n",
       "  'build_date': '2020-09-23T00:45:33.626720Z',\n",
       "  'build_snapshot': False,\n",
       "  'lucene_version': '8.6.2',\n",
       "  'minimum_wire_compatibility_version': '6.8.0',\n",
       "  'minimum_index_compatibility_version': '6.0.0-beta1'},\n",
       " 'tagline': 'You Know, for Search'}"
      ]
     },
     "execution_count": 10,
     "metadata": {},
     "output_type": "execute_result"
    }
   ],
   "source": [
    "import elasticsearch\n",
    "import pandas as pd\n",
    "\n",
    "WORKDIR = 'C:/Users/thewr/git/sentiment_analysis_twitter_netflix/'\n",
    "\n",
    "\n",
    "netflix_tweets_proc_file_test = WORKDIR + '/Data/Processed/netflix_all_tweets_test.parquet'\n",
    "\n",
    "client = elasticsearch.Elasticsearch('localhost:9200')\n",
    "\n",
    "client.info()"
   ]
  },
  {
   "cell_type": "markdown",
   "metadata": {},
   "source": [
    "# *More Like This* Query\n",
    "\n",
    "- Analisa o texto do parâmetro \"like\"\n",
    "- Pega os `max_query_terms` termos mais importantes, de acordo com tf-idf\n",
    "- Forma uma query com esses termos\n",
    "- Retorna os documentos mais relevantes"
   ]
  },
  {
   "cell_type": "code",
   "execution_count": 2,
   "metadata": {},
   "outputs": [],
   "source": [
    "query = {\n",
    "    \"query\": {\n",
    "        \"more_like_this\": {\n",
    "            # Campos a serem analizados por semelhança à query\n",
    "            \"fields\": [\n",
    "                \"text_cleaned\"\n",
    "            ],\n",
    "            # Documento que eu quero classificar\n",
    "            \"like\": \"\"\"Meu Deus\"\"\",\n",
    "            \n",
    "            # Parâmetros para contornar os termos de query\n",
    "            \"min_term_freq\": 1,\n",
    "            \"max_query_terms\": 40,\n",
    "        }\n",
    "    }\n",
    "}\n",
    "resp = client.search(index=\"tweets\", body=query, _source=['sentimento'])"
   ]
  },
  {
   "cell_type": "markdown",
   "metadata": {},
   "source": [
    "## Documentos e seus scores"
   ]
  },
  {
   "cell_type": "code",
   "execution_count": 3,
   "metadata": {},
   "outputs": [],
   "source": [
    "#for doc in resp['hits']['hits']:\n",
    " #   res = '{0:s} {1:s} {2:s}'.format(doc['_id'], str(doc['_source']['sentimento']),str(doc['_score']))\n",
    "  #  print(res)\n",
    "    \n",
    "   # print(f\"{doc['_id']} - {doc['_source']['sentimento'] :25s} - Score {doc['_score']}\")"
   ]
  },
  {
   "cell_type": "code",
   "execution_count": 4,
   "metadata": {},
   "outputs": [
    {
     "name": "stdout",
     "output_type": "stream",
     "text": [
      "V6DcingB1rloB9xz1XRj - 2.0                       - Score 9.743908\n",
      "YKDcingB1rloB9xz0XP4 - 2.0                       - Score 9.7282295\n",
      "zKDcingB1rloB9xz0XL3 - 2.0                       - Score 8.977959\n",
      "SaDcingB1rloB9xzymfD - 2.0                       - Score 8.515627\n",
      "sqDcingB1rloB9xzzWv_ - 2.0                       - Score 8.515627\n",
      "kaDcingB1rloB9xzzm0C - 2.0                       - Score 8.515627\n",
      "Y6DcingB1rloB9xz0XDo - 0.0                       - Score 8.515627\n",
      "laDcingB1rloB9xz0XH1 - 0.0                       - Score 8.515627\n",
      "OaDcingB1rloB9xz0XL2 - 2.0                       - Score 8.515627\n",
      "maDcingB1rloB9xz0XL3 - 2.0                       - Score 8.515627\n"
     ]
    }
   ],
   "source": [
    "for doc in resp['hits']['hits']:\n",
    "    print(f\"{doc['_id']} - {str(doc['_source']['sentimento']):25s} - Score {str(doc['_score'])}\")"
   ]
  },
  {
   "cell_type": "code",
   "execution_count": null,
   "metadata": {},
   "outputs": [],
   "source": []
  },
  {
   "cell_type": "markdown",
   "metadata": {},
   "source": [
    "## Votação de categoria por score"
   ]
  },
  {
   "cell_type": "code",
   "execution_count": 5,
   "metadata": {},
   "outputs": [],
   "source": [
    "# Somando Scores no 10 mais próximos\n",
    "scores = {}\n",
    "\n",
    "for doc in resp['hits']['hits']:\n",
    "    \n",
    "    sentimento = doc['_source']['sentimento']\n",
    "    score = doc['_score']\n",
    "    \n",
    "    scores[sentimento] = scores.get(sentimento, 0.0) + score"
   ]
  },
  {
   "cell_type": "code",
   "execution_count": 6,
   "metadata": {},
   "outputs": [
    {
     "name": "stdout",
     "output_type": "stream",
     "text": [
      "2.0                       - 71.0282315\n",
      "0.0                       - 17.031254\n"
     ]
    }
   ],
   "source": [
    "for sentimento, score in sorted(scores.items(), key=(lambda x: x[1]), reverse=True):\n",
    "    print(f'{str(sentimento):25s} - {score}')\n"
   ]
  },
  {
   "cell_type": "markdown",
   "metadata": {},
   "source": [
    "# Função de Classificação"
   ]
  },
  {
   "cell_type": "code",
   "execution_count": 7,
   "metadata": {},
   "outputs": [],
   "source": [
    "def classify_newsgroup(like, size=10):\n",
    "    query = {\n",
    "        \"query\": {\n",
    "            \"more_like_this\": {\n",
    "                \"fields\": [\n",
    "                    \"text_cleaned\"\n",
    "                ],\n",
    "\n",
    "                \"like\": like,\n",
    "\n",
    "                \"min_term_freq\": 1,\n",
    "                \"max_query_terms\": 40,\n",
    "            }\n",
    "        }\n",
    "    }\n",
    "    \n",
    "    resp = client.search(index=\"tweets\", body=query, size=size)\n",
    "    \n",
    "    # Somando Scores no 10 mais próximos\n",
    "    scores = {}\n",
    "\n",
    "    for doc in resp['hits']['hits']:\n",
    "\n",
    "        sentimento = doc['_source']['sentimento']\n",
    "        score = doc['_score']\n",
    "\n",
    "        scores[sentimento] = scores.get(sentimento, 0.0) + score\n",
    "        \n",
    "    scores = sorted(scores.items(), key=(lambda x: x[1]), reverse=True)\n",
    "    \n",
    "    if not scores:\n",
    "        return None\n",
    "    \n",
    "    return scores[0][0]"
   ]
  },
  {
   "cell_type": "code",
   "execution_count": 8,
   "metadata": {},
   "outputs": [
    {
     "data": {
      "text/plain": [
       "2.0"
      ]
     },
     "execution_count": 8,
     "metadata": {},
     "output_type": "execute_result"
    }
   ],
   "source": [
    "classify_newsgroup(\"\"\"Meu Deus\"\"\")"
   ]
  },
  {
   "cell_type": "markdown",
   "metadata": {},
   "source": [
    "# Avaliando desempenho com dados do scikit-learn"
   ]
  },
  {
   "cell_type": "code",
   "execution_count": 11,
   "metadata": {},
   "outputs": [],
   "source": [
    "df_test = pd.read_parquet(netflix_tweets_proc_file_test)"
   ]
  },
  {
   "cell_type": "code",
   "execution_count": 12,
   "metadata": {},
   "outputs": [],
   "source": [
    "predictions = []\n",
    "\n",
    "for test_message in df_test['text_cleaned']:\n",
    "    predictions.append(\n",
    "        classify_newsgroup(test_message)\n",
    "    )"
   ]
  },
  {
   "cell_type": "code",
   "execution_count": 13,
   "metadata": {},
   "outputs": [
    {
     "data": {
      "text/plain": [
       "1052"
      ]
     },
     "execution_count": 13,
     "metadata": {},
     "output_type": "execute_result"
    }
   ],
   "source": [
    "len(predictions)"
   ]
  },
  {
   "cell_type": "code",
   "execution_count": 14,
   "metadata": {},
   "outputs": [
    {
     "data": {
      "text/plain": [
       "1052"
      ]
     },
     "execution_count": 14,
     "metadata": {},
     "output_type": "execute_result"
    }
   ],
   "source": [
    "len(df_test['sentimento'])"
   ]
  },
  {
   "cell_type": "code",
   "execution_count": 15,
   "metadata": {},
   "outputs": [
    {
     "data": {
      "text/plain": [
       "998     0.0\n",
       "1010    2.0\n",
       "998     2.0\n",
       "1001    0.0\n",
       "1002    0.0\n",
       "1003    2.0\n",
       "1004    2.0\n",
       "1006    2.0\n",
       "1007    0.0\n",
       "1008    1.0\n",
       "Name: sentimento, dtype: float64"
      ]
     },
     "execution_count": 15,
     "metadata": {},
     "output_type": "execute_result"
    }
   ],
   "source": [
    "df_test['sentimento'][:10]"
   ]
  },
  {
   "cell_type": "code",
   "execution_count": 16,
   "metadata": {},
   "outputs": [],
   "source": [
    "import numpy as np\n",
    "from sklearn.metrics import classification_report"
   ]
  },
  {
   "cell_type": "code",
   "execution_count": 17,
   "metadata": {},
   "outputs": [],
   "source": [
    "target_pred = zip(df_test['sentimento'], predictions)\n",
    "target_pred = [x for x in target_pred if x[1] is not None]\n",
    "\n",
    "targets_validos, predictions_validos = zip(*target_pred)\n"
   ]
  },
  {
   "cell_type": "code",
   "execution_count": 18,
   "metadata": {},
   "outputs": [
    {
     "name": "stdout",
     "output_type": "stream",
     "text": [
      "              precision    recall  f1-score   support\n",
      "\n",
      "         0.0       0.67      0.62      0.64       567\n",
      "         1.0       0.82      0.11      0.19        85\n",
      "         2.0       0.55      0.71      0.62       400\n",
      "\n",
      "    accuracy                           0.61      1052\n",
      "   macro avg       0.68      0.48      0.48      1052\n",
      "weighted avg       0.63      0.61      0.60      1052\n",
      "\n"
     ]
    }
   ],
   "source": [
    "print(classification_report(targets_validos, predictions_validos))"
   ]
  },
  {
   "cell_type": "code",
   "execution_count": 19,
   "metadata": {},
   "outputs": [],
   "source": [
    "\n",
    "%matplotlib inline\n",
    "\n",
    "import matplotlib.pyplot as plt"
   ]
  },
  {
   "cell_type": "code",
   "execution_count": 20,
   "metadata": {},
   "outputs": [],
   "source": [
    "from sklearn.metrics import confusion_matrix"
   ]
  },
  {
   "cell_type": "code",
   "execution_count": 22,
   "metadata": {},
   "outputs": [],
   "source": [
    "labels = np.array(df_test['target_names'])"
   ]
  },
  {
   "cell_type": "code",
   "execution_count": 30,
   "metadata": {},
   "outputs": [],
   "source": [
    "conf = confusion_matrix(y_true=targets_validos, y_pred=predictions_validos)"
   ]
  },
  {
   "cell_type": "code",
   "execution_count": 31,
   "metadata": {},
   "outputs": [
    {
     "data": {
      "text/plain": [
       "<matplotlib.image.AxesImage at 0x2026e2d8648>"
      ]
     },
     "execution_count": 31,
     "metadata": {},
     "output_type": "execute_result"
    },
    {
     "data": {
      "image/png": "[encoded data removed]",
      "text/plain": [
       "<Figure size 1440x1440 with 1 Axes>"
      ]
     },
     "metadata": {
      "needs_background": "light"
     },
     "output_type": "display_data"
    }
   ],
   "source": [
    "fig, ax = plt.subplots(figsize=(20,20))\n",
    "ax.matshow(conf)"
   ]
  },
  {
   "cell_type": "code",
   "execution_count": null,
   "metadata": {},
   "outputs": [],
   "source": []
  }
 ],
 "metadata": {
  "kernelspec": {
   "display_name": "Python 3",
   "language": "python",
   "name": "python3"
  },
  "language_info": {
   "codemirror_mode": {
    "name": "ipython",
    "version": 3
   },
   "file_extension": ".py",
   "mimetype": "text/x-python",
   "name": "python",
   "nbconvert_exporter": "python",
   "pygments_lexer": "ipython3",
   "version": "3.7.4"
  }
 },
 "nbformat": 4,
 "nbformat_minor": 4
}
